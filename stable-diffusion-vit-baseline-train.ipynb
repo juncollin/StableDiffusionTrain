{
  "cells": [
    {
      "cell_type": "code",
      "source": [
        "from google.colab import auth\n",
        "auth.authenticate_user()"
      ],
      "metadata": {
        "id": "MEYd45rNDkbS"
      },
      "id": "MEYd45rNDkbS",
      "execution_count": 1,
      "outputs": []
    },
    {
      "cell_type": "code",
      "source": [
        "!echo \"deb http://packages.cloud.google.com/apt gcsfuse-`lsb_release -c -s` main\" | sudo tee /etc/apt/sources.list.d/gcsfuse.list\n",
        "!curl https://packages.cloud.google.com/apt/doc/apt-key.gpg | sudo apt-key add -\n",
        "!apt-get -y -q update\n",
        "!apt-get -y -q install gcsfuse"
      ],
      "metadata": {
        "id": "MS3ASz_PDkQy",
        "outputId": "bd935dc0-907f-4f7d-f4a7-8eb3acdd69f6",
        "colab": {
          "base_uri": "https://localhost:8080/"
        }
      },
      "id": "MS3ASz_PDkQy",
      "execution_count": 2,
      "outputs": [
        {
          "output_type": "stream",
          "name": "stdout",
          "text": [
            "deb http://packages.cloud.google.com/apt gcsfuse-focal main\n",
            "  % Total    % Received % Xferd  Average Speed   Time    Time     Time  Current\n",
            "                                 Dload  Upload   Total   Spent    Left  Speed\n",
            "100  1210  100  1210    0     0  28809      0 --:--:-- --:--:-- --:--:-- 28809\n",
            "OK\n",
            "Get:1 https://cloud.r-project.org/bin/linux/ubuntu focal-cran40/ InRelease [3,622 B]\n",
            "Get:2 https://developer.download.nvidia.com/compute/cuda/repos/ubuntu2004/x86_64  InRelease [1,581 B]\n",
            "Get:3 http://packages.cloud.google.com/apt gcsfuse-focal InRelease [5,002 B]\n",
            "Hit:4 http://archive.ubuntu.com/ubuntu focal InRelease\n",
            "Get:5 http://security.ubuntu.com/ubuntu focal-security InRelease [114 kB]\n",
            "Get:6 https://developer.download.nvidia.com/compute/cuda/repos/ubuntu2004/x86_64  Packages [972 kB]\n",
            "Get:7 http://archive.ubuntu.com/ubuntu focal-updates InRelease [114 kB]\n",
            "Hit:8 http://ppa.launchpad.net/c2d4u.team/c2d4u4.0+/ubuntu focal InRelease\n",
            "Get:9 http://packages.cloud.google.com/apt gcsfuse-focal/main amd64 Packages [2,149 B]\n",
            "Get:10 http://archive.ubuntu.com/ubuntu focal-backports InRelease [108 kB]\n",
            "Hit:11 http://ppa.launchpad.net/cran/libgit2/ubuntu focal InRelease\n",
            "Get:12 http://security.ubuntu.com/ubuntu focal-security/multiverse amd64 Packages [28.5 kB]\n",
            "Hit:13 http://ppa.launchpad.net/deadsnakes/ppa/ubuntu focal InRelease\n",
            "Get:14 http://security.ubuntu.com/ubuntu focal-security/restricted amd64 Packages [2,060 kB]\n",
            "Get:15 http://archive.ubuntu.com/ubuntu focal-updates/main amd64 Packages [3,069 kB]\n",
            "Hit:16 http://ppa.launchpad.net/graphics-drivers/ppa/ubuntu focal InRelease\n",
            "Get:17 http://archive.ubuntu.com/ubuntu focal-updates/restricted amd64 Packages [2,199 kB]\n",
            "Hit:18 http://ppa.launchpad.net/ubuntugis/ppa/ubuntu focal InRelease\n",
            "Get:19 http://archive.ubuntu.com/ubuntu focal-updates/multiverse amd64 Packages [31.3 kB]\n",
            "Get:20 http://archive.ubuntu.com/ubuntu focal-updates/universe amd64 Packages [1,324 kB]\n",
            "Fetched 10.0 MB in 2s (4,748 kB/s)\n",
            "Reading package lists...\n",
            "Reading package lists...\n",
            "Building dependency tree...\n",
            "Reading state information...\n",
            "The following NEW packages will be installed:\n",
            "  gcsfuse\n",
            "0 upgraded, 1 newly installed, 0 to remove and 24 not upgraded.\n",
            "Need to get 13.9 MB of archives.\n",
            "After this operation, 32.2 MB of additional disk space will be used.\n",
            "Get:1 http://packages.cloud.google.com/apt gcsfuse-focal/main amd64 gcsfuse amd64 0.42.3 [13.9 MB]\n",
            "Fetched 13.9 MB in 1s (23.6 MB/s)\n",
            "Selecting previously unselected package gcsfuse.\n",
            "(Reading database ... 122349 files and directories currently installed.)\n",
            "Preparing to unpack .../gcsfuse_0.42.3_amd64.deb ...\n",
            "Unpacking gcsfuse (0.42.3) ...\n",
            "Setting up gcsfuse (0.42.3) ...\n"
          ]
        }
      ]
    },
    {
      "cell_type": "code",
      "source": [
        "!mkdir -p diffusiondb-2m-part-0001-to-0100-of-2000\n",
        "!gcsfuse --implicit-dirs --limit-bytes-per-sec -1 --limit-ops-per-sec -1 \"kds-d7f74bc4b0868963a3d7c0c0d3916af3d37fb38bd3a4ddbaeeb9ea76\" diffusiondb-2m-part-0001-to-0100-of-2000\n",
        "!mkdir -p diffusiondb-2m-part-0101-to-0200-of-2000\n",
        "!gcsfuse --implicit-dirs --limit-bytes-per-sec -1 --limit-ops-per-sec -1 \"kds-384f08275e3d3b1eadd281695ad754ae6f959bf91d86f82c7cfb2d73\" diffusiondb-2m-part-0101-to-0200-of-2000\n",
        "!mkdir -p diffusiondb-2m-part-0201-to-0300-of-2000\n",
        "!gcsfuse --implicit-dirs --limit-bytes-per-sec -1 --limit-ops-per-sec -1 \"kds-29637c79da4aa6f61fb50909c64f4b78bb2a59d9799eb30e5ff639fe\" diffusiondb-2m-part-0201-to-0300-of-2000\n",
        "!mkdir -p diffusiondb-2m-part-0301-to-0400-of-2000\n",
        "!gcsfuse --implicit-dirs --limit-bytes-per-sec -1 --limit-ops-per-sec -1 \"kds-03bda771af5c64447323fb3dde5150b29b87bc76c3a6749d0718b0ef\" diffusiondb-2m-part-0301-to-0400-of-2000\n",
        "!mkdir -p diffusiondb-2m-part-0401-to-0500-of-2000\n",
        "!gcsfuse --implicit-dirs --limit-bytes-per-sec -1 --limit-ops-per-sec -1 \"kds-4ab8f031dfa49c5d83df1d4f373a58a90694a8bd1b14fa63b95df622\" diffusiondb-2m-part-0401-to-0500-of-2000\n",
        "!mkdir -p diffusiondb-2m-part-0501-to-0600-of-2000\n",
        "!gcsfuse --implicit-dirs --limit-bytes-per-sec -1 --limit-ops-per-sec -1 \"kds-4ae6f7ca38abffe379d0f784fe92e7aa6fa53d3b854f133c83533634\" diffusiondb-2m-part-0501-to-0600-of-2000\n",
        "!mkdir -p diffusiondb-2m-part-0601-to-0700-of-2000\n",
        "!gcsfuse --implicit-dirs --limit-bytes-per-sec -1 --limit-ops-per-sec -1 \"kds-ae4319f57097561749ce06ed6be291f939d6fa82dfa9c462a232abba\" diffusiondb-2m-part-0601-to-0700-of-2000\n",
        "!mkdir -p diffusiondb-2m-part-0701-to-0800-of-2000\n",
        "!gcsfuse --implicit-dirs --limit-bytes-per-sec -1 --limit-ops-per-sec -1 \"kds-f0a5fd4b93bfb1028219ead43bf1ab30c7ca9b24b037eacd62d7ad47\" diffusiondb-2m-part-0701-to-0800-of-2000\n",
        "!mkdir -p diffusiondb-2m-part-0801-to-0900-of-2000\n",
        "!gcsfuse --implicit-dirs --limit-bytes-per-sec -1 --limit-ops-per-sec -1 \"kds-067c57386a8e0954fe21799bdae6bd2f8760ac524e0e413e5c6d9454\" diffusiondb-2m-part-0801-to-0900-of-2000\n",
        "!mkdir -p diffusiondb-2m-part-0901-to-1000-of-2000\n",
        "!gcsfuse --implicit-dirs --limit-bytes-per-sec -1 --limit-ops-per-sec -1 \"kds-1231118cf5bd4fc82aa1871efffb13b68967e3d766be7dbb50b919f3\" diffusiondb-2m-part-0901-to-1000-of-2000\n",
        "!mkdir -p diffusiondb-2m-part-1001-to-1100-of-2000\n",
        "!gcsfuse --implicit-dirs --limit-bytes-per-sec -1 --limit-ops-per-sec -1 \"kds-877dcbe2cacfadd83337bdbdbda7488338c8dc458590e844d1e762e5\" diffusiondb-2m-part-1001-to-1100-of-2000\n",
        "!mkdir -p diffusiondb-2m-part-1101-to-1200-of-2000\n",
        "!gcsfuse --implicit-dirs --limit-bytes-per-sec -1 --limit-ops-per-sec -1 \"kds-507d59ce3f417c0eee2a488ebcd995697487397be9b8ef5aa480416f\" diffusiondb-2m-part-1101-to-1200-of-2000\n",
        "!mkdir -p diffusiondb-2m-part-1201-to-1300-of-2000\n",
        "!gcsfuse --implicit-dirs --limit-bytes-per-sec -1 --limit-ops-per-sec -1 \"kds-5e505027ac96bf0d5b281992a12cc66242ff827aecb7c389a810151e\" diffusiondb-2m-part-1201-to-1300-of-2000\n",
        "!mkdir -p diffusiondb-2m-part-1301-to-1400-of-2000\n",
        "!gcsfuse --implicit-dirs --limit-bytes-per-sec -1 --limit-ops-per-sec -1 \"kds-743cc231e59470409003c3135e68ffbd1dc2f2ac45dc4fa1e94b0b07\" diffusiondb-2m-part-1301-to-1400-of-2000\n",
        "!mkdir -p diffusiondb-2m-part-1401-to-1500-of-2000\n",
        "!gcsfuse --implicit-dirs --limit-bytes-per-sec -1 --limit-ops-per-sec -1 \"kds-3a8756024b5e4076dbd1eaeaa089a189231e898c68e911c40796778c\" diffusiondb-2m-part-1401-to-1500-of-2000\n",
        "!mkdir -p diffusiondb-2m-part-1501-to-1600-of-2000\n",
        "!gcsfuse --implicit-dirs --limit-bytes-per-sec -1 --limit-ops-per-sec -1 \"kds-73e0d36728e3694d517f5d6933e6ea9d0e8b5f3d28a1d0dd1480e073\" diffusiondb-2m-part-1501-to-1600-of-2000\n",
        "!mkdir -p diffusiondb-2m-part-1601-to-1700-of-2000\n",
        "!gcsfuse --implicit-dirs --limit-bytes-per-sec -1 --limit-ops-per-sec -1 \"kds-ee0321e1f08b9a0083f2d784662bc070ecf6f5e8934fabd62f6d5142\" diffusiondb-2m-part-1601-to-1700-of-2000\n",
        "# !mkdir -p diffusiondb-2m-part-1701-to-1800-of-2000\n",
        "# !gcsfuse --implicit-dirs --limit-bytes-per-sec -1 --limit-ops-per-sec -1 \"kds-\" diffusiondb-2m-part-1701-to-1800-of-2000\n",
        "# !mkdir -p diffusiondb-2m-part-1801-to-1900-of-2000\n",
        "# !gcsfuse --implicit-dirs --limit-bytes-per-sec -1 --limit-ops-per-sec -1 \"kds-a66b8b74f1e553cf3999f4cf3980235623380786f1e5a462130daf1e\" diffusiondb-2m-part-1801-to-1900-of-2000\n",
        "# !mkdir -p diffusiondb-2m-part-1901-to-2000-of-2000\n",
        "# !gcsfuse --implicit-dirs --limit-bytes-per-sec -1 --limit-ops-per-sec -1 \"kds-\" diffusiondb-2m-part-1901-to-2000-of-2000\n"
      ],
      "metadata": {
        "id": "M0ciWamrEHO4",
        "colab": {
          "base_uri": "https://localhost:8080/"
        },
        "outputId": "8f0f941c-688b-46bf-d0d5-aafebbde3d96"
      },
      "id": "M0ciWamrEHO4",
      "execution_count": 6,
      "outputs": [
        {
          "output_type": "stream",
          "name": "stdout",
          "text": [
            "2023/04/09 12:47:10.933953 Start gcsfuse/0.42.3 (Go version go1.19.5) for app \"\" using mount point: /content/diffusiondb-2m-part-0001-to-0100-of-2000\n",
            "2023/04/09 12:47:11.575058 Start gcsfuse/0.42.3 (Go version go1.19.5) for app \"\" using mount point: /content/diffusiondb-2m-part-0101-to-0200-of-2000\n",
            "2023/04/09 12:47:12.196888 Start gcsfuse/0.42.3 (Go version go1.19.5) for app \"\" using mount point: /content/diffusiondb-2m-part-0201-to-0300-of-2000\n",
            "2023/04/09 12:47:13.129285 Start gcsfuse/0.42.3 (Go version go1.19.5) for app \"\" using mount point: /content/diffusiondb-2m-part-0301-to-0400-of-2000\n",
            "2023/04/09 12:47:13.861563 Start gcsfuse/0.42.3 (Go version go1.19.5) for app \"\" using mount point: /content/diffusiondb-2m-part-0401-to-0500-of-2000\n",
            "2023/04/09 12:47:14.388824 Start gcsfuse/0.42.3 (Go version go1.19.5) for app \"\" using mount point: /content/diffusiondb-2m-part-0501-to-0600-of-2000\n",
            "2023/04/09 12:47:15.121588 Start gcsfuse/0.42.3 (Go version go1.19.5) for app \"\" using mount point: /content/diffusiondb-2m-part-0601-to-0700-of-2000\n",
            "2023/04/09 12:47:15.746374 Start gcsfuse/0.42.3 (Go version go1.19.5) for app \"\" using mount point: /content/diffusiondb-2m-part-0701-to-0800-of-2000\n",
            "2023/04/09 12:47:17.097431 Start gcsfuse/0.42.3 (Go version go1.19.5) for app \"\" using mount point: /content/diffusiondb-2m-part-0801-to-0900-of-2000\n",
            "2023/04/09 12:47:17.840419 Start gcsfuse/0.42.3 (Go version go1.19.5) for app \"\" using mount point: /content/diffusiondb-2m-part-0901-to-1000-of-2000\n",
            "2023/04/09 12:47:19.281234 Start gcsfuse/0.42.3 (Go version go1.19.5) for app \"\" using mount point: /content/diffusiondb-2m-part-1001-to-1100-of-2000\n",
            "2023/04/09 12:47:20.017818 Start gcsfuse/0.42.3 (Go version go1.19.5) for app \"\" using mount point: /content/diffusiondb-2m-part-1101-to-1200-of-2000\n",
            "2023/04/09 12:47:20.938527 Start gcsfuse/0.42.3 (Go version go1.19.5) for app \"\" using mount point: /content/diffusiondb-2m-part-1201-to-1300-of-2000\n",
            "2023/04/09 12:47:21.573003 Start gcsfuse/0.42.3 (Go version go1.19.5) for app \"\" using mount point: /content/diffusiondb-2m-part-1301-to-1400-of-2000\n",
            "2023/04/09 12:47:22.004247 Start gcsfuse/0.42.3 (Go version go1.19.5) for app \"\" using mount point: /content/diffusiondb-2m-part-1401-to-1500-of-2000\n",
            "2023/04/09 12:47:23.339027 Start gcsfuse/0.42.3 (Go version go1.19.5) for app \"\" using mount point: /content/diffusiondb-2m-part-1501-to-1600-of-2000\n",
            "2023/04/09 12:47:23.974783 Start gcsfuse/0.42.3 (Go version go1.19.5) for app \"\" using mount point: /content/diffusiondb-2m-part-1601-to-1700-of-2000\n"
          ]
        }
      ]
    },
    {
      "cell_type": "code",
      "source": [
        "!mkdir sentence-transformers-2.2.2\n",
        "!gcsfuse --implicit-dirs --limit-bytes-per-sec -1 --limit-ops-per-sec -1 \"kds-9ca71c17b9c7b24487321c17d4d70b79186a47e2fbed8acbf2692695\" sentence-transformers-2.2.2"
      ],
      "metadata": {
        "colab": {
          "base_uri": "https://localhost:8080/"
        },
        "id": "6ctOxUIGP7wZ",
        "outputId": "01cec1f4-cc0c-4813-a507-3b20d1f062c2"
      },
      "id": "6ctOxUIGP7wZ",
      "execution_count": 7,
      "outputs": [
        {
          "output_type": "stream",
          "name": "stdout",
          "text": [
            "2023/04/09 12:47:43.584757 Start gcsfuse/0.42.3 (Go version go1.19.5) for app \"\" using mount point: /content/sentence-transformers-2.2.2\n"
          ]
        }
      ]
    },
    {
      "cell_type": "code",
      "source": [
        "import os\n",
        "import json\n",
        "from google.colab import drive\n",
        "\n",
        "!pip install kaggle\n",
        "\n",
        "drive.mount('/content/gdrive')\n",
        "\n",
        "f = open(\"/content/gdrive/My Drive/Colab Notebooks/Kaggle/kaggle.json\", 'r')\n",
        "json_data = json.load(f) \n",
        "os.environ['KAGGLE_USERNAME'] = json_data['username']\n",
        "os.environ['KAGGLE_KEY'] = json_data['key']\n",
        "\n",
        "!kaggle competitions download -c stable-diffusion-image-to-prompts\n",
        "!unzip /content/stable-diffusion-image-to-prompts.zip\n",
        "\n",
        "!mkdir diffusiondb-data-cleansing\n",
        "!kaggle kernels output shoheiazuma/diffusiondb-data-cleansing -p diffusiondb-data-cleansing\n",
        "#!mkdir /content/input\n",
        "#!mv /content/stable-diffusion-image-to-prompts.zip /content/input/stable-diffusion-image-to-prompts.zip\n",
        "#!unzip /content/input/stable-diffusion-image-to-prompts.zip -d /content/input/"
      ],
      "metadata": {
        "id": "0HwcNGJ44FRx",
        "outputId": "e4a6efba-188c-4dd9-f59b-0d59e07fc4df",
        "colab": {
          "base_uri": "https://localhost:8080/"
        }
      },
      "id": "0HwcNGJ44FRx",
      "execution_count": 8,
      "outputs": [
        {
          "output_type": "stream",
          "name": "stdout",
          "text": [
            "Looking in indexes: https://pypi.org/simple, https://us-python.pkg.dev/colab-wheels/public/simple/\n",
            "Requirement already satisfied: kaggle in /usr/local/lib/python3.9/dist-packages (1.5.13)\n",
            "Requirement already satisfied: urllib3 in /usr/local/lib/python3.9/dist-packages (from kaggle) (1.26.15)\n",
            "Requirement already satisfied: certifi in /usr/local/lib/python3.9/dist-packages (from kaggle) (2022.12.7)\n",
            "Requirement already satisfied: python-slugify in /usr/local/lib/python3.9/dist-packages (from kaggle) (8.0.1)\n",
            "Requirement already satisfied: python-dateutil in /usr/local/lib/python3.9/dist-packages (from kaggle) (2.8.2)\n",
            "Requirement already satisfied: requests in /usr/local/lib/python3.9/dist-packages (from kaggle) (2.27.1)\n",
            "Requirement already satisfied: tqdm in /usr/local/lib/python3.9/dist-packages (from kaggle) (4.65.0)\n",
            "Requirement already satisfied: six>=1.10 in /usr/local/lib/python3.9/dist-packages (from kaggle) (1.16.0)\n",
            "Requirement already satisfied: text-unidecode>=1.3 in /usr/local/lib/python3.9/dist-packages (from python-slugify->kaggle) (1.3)\n",
            "Requirement already satisfied: charset-normalizer~=2.0.0 in /usr/local/lib/python3.9/dist-packages (from requests->kaggle) (2.0.12)\n",
            "Requirement already satisfied: idna<4,>=2.5 in /usr/local/lib/python3.9/dist-packages (from requests->kaggle) (3.4)\n",
            "Mounted at /content/gdrive\n",
            "Downloading stable-diffusion-image-to-prompts.zip to /content\n",
            "  0% 0.00/3.04M [00:00<?, ?B/s]\n",
            "100% 3.04M/3.04M [00:00<00:00, 106MB/s]\n",
            "Archive:  /content/stable-diffusion-image-to-prompts.zip\n",
            "  inflating: images/20057f34d.png    \n",
            "  inflating: images/227ef0887.png    \n",
            "  inflating: images/92e911621.png    \n",
            "  inflating: images/a4e1c55a9.png    \n",
            "  inflating: images/c98f79f71.png    \n",
            "  inflating: images/d8edf2e40.png    \n",
            "  inflating: images/f27825b2c.png    \n",
            "  inflating: prompts.csv             \n",
            "  inflating: sample_submission.csv   \n",
            "Output file downloaded to diffusiondb-data-cleansing/diffusiondb.csv\n",
            "Kernel log downloaded to diffusiondb-data-cleansing/diffusiondb-data-cleansing.log \n"
          ]
        }
      ]
    },
    {
      "cell_type": "markdown",
      "id": "cb9cb652",
      "metadata": {
        "papermill": {
          "duration": 0.004251,
          "end_time": "2023-04-04T13:25:29.211054",
          "exception": false,
          "start_time": "2023-04-04T13:25:29.206803",
          "status": "completed"
        },
        "tags": [],
        "id": "cb9cb652"
      },
      "source": [
        "# Library"
      ]
    },
    {
      "cell_type": "code",
      "source": [
        "!pip install timm\n",
        "!pip install sentence_transformers"
      ],
      "metadata": {
        "id": "UtYsiHEjEvxR",
        "outputId": "54af124a-e45e-42a8-dec4-4a80aa7bfdcf",
        "colab": {
          "base_uri": "https://localhost:8080/"
        }
      },
      "id": "UtYsiHEjEvxR",
      "execution_count": 12,
      "outputs": [
        {
          "output_type": "stream",
          "name": "stdout",
          "text": [
            "Looking in indexes: https://pypi.org/simple, https://us-python.pkg.dev/colab-wheels/public/simple/\n",
            "Requirement already satisfied: timm in /usr/local/lib/python3.9/dist-packages (0.6.13)\n",
            "Requirement already satisfied: huggingface-hub in /usr/local/lib/python3.9/dist-packages (from timm) (0.13.4)\n",
            "Requirement already satisfied: torch>=1.7 in /usr/local/lib/python3.9/dist-packages (from timm) (2.0.0+cu118)\n",
            "Requirement already satisfied: torchvision in /usr/local/lib/python3.9/dist-packages (from timm) (0.15.1+cu118)\n",
            "Requirement already satisfied: pyyaml in /usr/local/lib/python3.9/dist-packages (from timm) (6.0)\n",
            "Requirement already satisfied: filelock in /usr/local/lib/python3.9/dist-packages (from torch>=1.7->timm) (3.10.7)\n",
            "Requirement already satisfied: triton==2.0.0 in /usr/local/lib/python3.9/dist-packages (from torch>=1.7->timm) (2.0.0)\n",
            "Requirement already satisfied: jinja2 in /usr/local/lib/python3.9/dist-packages (from torch>=1.7->timm) (3.1.2)\n",
            "Requirement already satisfied: networkx in /usr/local/lib/python3.9/dist-packages (from torch>=1.7->timm) (3.0)\n",
            "Requirement already satisfied: typing-extensions in /usr/local/lib/python3.9/dist-packages (from torch>=1.7->timm) (4.5.0)\n",
            "Requirement already satisfied: sympy in /usr/local/lib/python3.9/dist-packages (from torch>=1.7->timm) (1.11.1)\n",
            "Requirement already satisfied: cmake in /usr/local/lib/python3.9/dist-packages (from triton==2.0.0->torch>=1.7->timm) (3.25.2)\n",
            "Requirement already satisfied: lit in /usr/local/lib/python3.9/dist-packages (from triton==2.0.0->torch>=1.7->timm) (16.0.0)\n",
            "Requirement already satisfied: packaging>=20.9 in /usr/local/lib/python3.9/dist-packages (from huggingface-hub->timm) (23.0)\n",
            "Requirement already satisfied: tqdm>=4.42.1 in /usr/local/lib/python3.9/dist-packages (from huggingface-hub->timm) (4.65.0)\n",
            "Requirement already satisfied: requests in /usr/local/lib/python3.9/dist-packages (from huggingface-hub->timm) (2.27.1)\n",
            "Requirement already satisfied: numpy in /usr/local/lib/python3.9/dist-packages (from torchvision->timm) (1.22.4)\n",
            "Requirement already satisfied: pillow!=8.3.*,>=5.3.0 in /usr/local/lib/python3.9/dist-packages (from torchvision->timm) (8.4.0)\n",
            "Requirement already satisfied: MarkupSafe>=2.0 in /usr/local/lib/python3.9/dist-packages (from jinja2->torch>=1.7->timm) (2.1.2)\n",
            "Requirement already satisfied: certifi>=2017.4.17 in /usr/local/lib/python3.9/dist-packages (from requests->huggingface-hub->timm) (2022.12.7)\n",
            "Requirement already satisfied: charset-normalizer~=2.0.0 in /usr/local/lib/python3.9/dist-packages (from requests->huggingface-hub->timm) (2.0.12)\n",
            "Requirement already satisfied: urllib3<1.27,>=1.21.1 in /usr/local/lib/python3.9/dist-packages (from requests->huggingface-hub->timm) (1.26.15)\n",
            "Requirement already satisfied: idna<4,>=2.5 in /usr/local/lib/python3.9/dist-packages (from requests->huggingface-hub->timm) (3.4)\n",
            "Requirement already satisfied: mpmath>=0.19 in /usr/local/lib/python3.9/dist-packages (from sympy->torch>=1.7->timm) (1.3.0)\n",
            "Looking in indexes: https://pypi.org/simple, https://us-python.pkg.dev/colab-wheels/public/simple/\n",
            "Collecting sentence_transformers\n",
            "  Downloading sentence-transformers-2.2.2.tar.gz (85 kB)\n",
            "\u001b[2K     \u001b[90m━━━━━━━━━━━━━━━━━━━━━━━━━━━━━━━━━━━━━━━━\u001b[0m \u001b[32m86.0/86.0 KB\u001b[0m \u001b[31m5.3 MB/s\u001b[0m eta \u001b[36m0:00:00\u001b[0m\n",
            "\u001b[?25h  Preparing metadata (setup.py) ... \u001b[?25l\u001b[?25hdone\n",
            "Collecting transformers<5.0.0,>=4.6.0\n",
            "  Downloading transformers-4.27.4-py3-none-any.whl (6.8 MB)\n",
            "\u001b[2K     \u001b[90m━━━━━━━━━━━━━━━━━━━━━━━━━━━━━━━━━━━━━━━━\u001b[0m \u001b[32m6.8/6.8 MB\u001b[0m \u001b[31m52.2 MB/s\u001b[0m eta \u001b[36m0:00:00\u001b[0m\n",
            "\u001b[?25hRequirement already satisfied: tqdm in /usr/local/lib/python3.9/dist-packages (from sentence_transformers) (4.65.0)\n",
            "Requirement already satisfied: torch>=1.6.0 in /usr/local/lib/python3.9/dist-packages (from sentence_transformers) (2.0.0+cu118)\n",
            "Requirement already satisfied: torchvision in /usr/local/lib/python3.9/dist-packages (from sentence_transformers) (0.15.1+cu118)\n",
            "Requirement already satisfied: numpy in /usr/local/lib/python3.9/dist-packages (from sentence_transformers) (1.22.4)\n",
            "Requirement already satisfied: scikit-learn in /usr/local/lib/python3.9/dist-packages (from sentence_transformers) (1.2.2)\n",
            "Requirement already satisfied: scipy in /usr/local/lib/python3.9/dist-packages (from sentence_transformers) (1.10.1)\n",
            "Requirement already satisfied: nltk in /usr/local/lib/python3.9/dist-packages (from sentence_transformers) (3.8.1)\n",
            "Collecting sentencepiece\n",
            "  Downloading sentencepiece-0.1.97-cp39-cp39-manylinux_2_17_x86_64.manylinux2014_x86_64.whl (1.3 MB)\n",
            "\u001b[2K     \u001b[90m━━━━━━━━━━━━━━━━━━━━━━━━━━━━━━━━━━━━━━━━\u001b[0m \u001b[32m1.3/1.3 MB\u001b[0m \u001b[31m56.9 MB/s\u001b[0m eta \u001b[36m0:00:00\u001b[0m\n",
            "\u001b[?25hRequirement already satisfied: huggingface-hub>=0.4.0 in /usr/local/lib/python3.9/dist-packages (from sentence_transformers) (0.13.4)\n",
            "Requirement already satisfied: typing-extensions>=3.7.4.3 in /usr/local/lib/python3.9/dist-packages (from huggingface-hub>=0.4.0->sentence_transformers) (4.5.0)\n",
            "Requirement already satisfied: packaging>=20.9 in /usr/local/lib/python3.9/dist-packages (from huggingface-hub>=0.4.0->sentence_transformers) (23.0)\n",
            "Requirement already satisfied: filelock in /usr/local/lib/python3.9/dist-packages (from huggingface-hub>=0.4.0->sentence_transformers) (3.10.7)\n",
            "Requirement already satisfied: requests in /usr/local/lib/python3.9/dist-packages (from huggingface-hub>=0.4.0->sentence_transformers) (2.27.1)\n",
            "Requirement already satisfied: pyyaml>=5.1 in /usr/local/lib/python3.9/dist-packages (from huggingface-hub>=0.4.0->sentence_transformers) (6.0)\n",
            "Requirement already satisfied: jinja2 in /usr/local/lib/python3.9/dist-packages (from torch>=1.6.0->sentence_transformers) (3.1.2)\n",
            "Requirement already satisfied: sympy in /usr/local/lib/python3.9/dist-packages (from torch>=1.6.0->sentence_transformers) (1.11.1)\n",
            "Requirement already satisfied: networkx in /usr/local/lib/python3.9/dist-packages (from torch>=1.6.0->sentence_transformers) (3.0)\n",
            "Requirement already satisfied: triton==2.0.0 in /usr/local/lib/python3.9/dist-packages (from torch>=1.6.0->sentence_transformers) (2.0.0)\n",
            "Requirement already satisfied: lit in /usr/local/lib/python3.9/dist-packages (from triton==2.0.0->torch>=1.6.0->sentence_transformers) (16.0.0)\n",
            "Requirement already satisfied: cmake in /usr/local/lib/python3.9/dist-packages (from triton==2.0.0->torch>=1.6.0->sentence_transformers) (3.25.2)\n",
            "Collecting tokenizers!=0.11.3,<0.14,>=0.11.1\n",
            "  Downloading tokenizers-0.13.3-cp39-cp39-manylinux_2_17_x86_64.manylinux2014_x86_64.whl (7.8 MB)\n",
            "\u001b[2K     \u001b[90m━━━━━━━━━━━━━━━━━━━━━━━━━━━━━━━━━━━━━━━━\u001b[0m \u001b[32m7.8/7.8 MB\u001b[0m \u001b[31m39.2 MB/s\u001b[0m eta \u001b[36m0:00:00\u001b[0m\n",
            "\u001b[?25hRequirement already satisfied: regex!=2019.12.17 in /usr/local/lib/python3.9/dist-packages (from transformers<5.0.0,>=4.6.0->sentence_transformers) (2022.10.31)\n",
            "Requirement already satisfied: click in /usr/local/lib/python3.9/dist-packages (from nltk->sentence_transformers) (8.1.3)\n",
            "Requirement already satisfied: joblib in /usr/local/lib/python3.9/dist-packages (from nltk->sentence_transformers) (1.1.1)\n",
            "Requirement already satisfied: threadpoolctl>=2.0.0 in /usr/local/lib/python3.9/dist-packages (from scikit-learn->sentence_transformers) (3.1.0)\n",
            "Requirement already satisfied: pillow!=8.3.*,>=5.3.0 in /usr/local/lib/python3.9/dist-packages (from torchvision->sentence_transformers) (8.4.0)\n",
            "Requirement already satisfied: MarkupSafe>=2.0 in /usr/local/lib/python3.9/dist-packages (from jinja2->torch>=1.6.0->sentence_transformers) (2.1.2)\n",
            "Requirement already satisfied: urllib3<1.27,>=1.21.1 in /usr/local/lib/python3.9/dist-packages (from requests->huggingface-hub>=0.4.0->sentence_transformers) (1.26.15)\n",
            "Requirement already satisfied: charset-normalizer~=2.0.0 in /usr/local/lib/python3.9/dist-packages (from requests->huggingface-hub>=0.4.0->sentence_transformers) (2.0.12)\n",
            "Requirement already satisfied: idna<4,>=2.5 in /usr/local/lib/python3.9/dist-packages (from requests->huggingface-hub>=0.4.0->sentence_transformers) (3.4)\n",
            "Requirement already satisfied: certifi>=2017.4.17 in /usr/local/lib/python3.9/dist-packages (from requests->huggingface-hub>=0.4.0->sentence_transformers) (2022.12.7)\n",
            "Requirement already satisfied: mpmath>=0.19 in /usr/local/lib/python3.9/dist-packages (from sympy->torch>=1.6.0->sentence_transformers) (1.3.0)\n",
            "Building wheels for collected packages: sentence_transformers\n",
            "  Building wheel for sentence_transformers (setup.py) ... \u001b[?25l\u001b[?25hdone\n",
            "  Created wheel for sentence_transformers: filename=sentence_transformers-2.2.2-py3-none-any.whl size=125942 sha256=eafee8d480c7f7ecf0ab3e490b47c2a10c1f1ba4d98f439358a17e348836ce4f\n",
            "  Stored in directory: /root/.cache/pip/wheels/71/67/06/162a3760c40d74dd40bc855d527008d26341c2b0ecf3e8e11f\n",
            "Successfully built sentence_transformers\n",
            "Installing collected packages: tokenizers, sentencepiece, transformers, sentence_transformers\n",
            "Successfully installed sentence_transformers-2.2.2 sentencepiece-0.1.97 tokenizers-0.13.3 transformers-4.27.4\n"
          ]
        }
      ]
    },
    {
      "cell_type": "code",
      "execution_count": 13,
      "id": "f942bbda",
      "metadata": {
        "execution": {
          "iopub.execute_input": "2023-04-04T13:25:29.219780Z",
          "iopub.status.busy": "2023-04-04T13:25:29.218862Z",
          "iopub.status.idle": "2023-04-04T13:25:41.763051Z",
          "shell.execute_reply": "2023-04-04T13:25:41.762066Z"
        },
        "papermill": {
          "duration": 12.551246,
          "end_time": "2023-04-04T13:25:41.765870",
          "exception": false,
          "start_time": "2023-04-04T13:25:29.214624",
          "status": "completed"
        },
        "tags": [],
        "id": "f942bbda"
      },
      "outputs": [],
      "source": [
        "import os\n",
        "import random\n",
        "import numpy as np\n",
        "import pandas as pd\n",
        "from PIL import Image\n",
        "from tqdm.notebook import tqdm\n",
        "from scipy import spatial\n",
        "from sklearn.model_selection import train_test_split\n",
        "import torch\n",
        "from torch import nn\n",
        "from torch.utils.data import Dataset, DataLoader\n",
        "from torch.optim.lr_scheduler import CosineAnnealingLR\n",
        "from torchvision import transforms\n",
        "import timm\n",
        "from timm.utils import AverageMeter\n",
        "import sys\n",
        "#sys.path.append('../input/sentence-transformers-222/sentence-transformers')\n",
        "sys.path.append('./sentence-transformers-222/sentence-transformers')\n",
        "from sentence_transformers import SentenceTransformer\n",
        "import warnings\n",
        "warnings.filterwarnings('ignore')"
      ]
    },
    {
      "cell_type": "markdown",
      "id": "efbf935e",
      "metadata": {
        "papermill": {
          "duration": 0.003125,
          "end_time": "2023-04-04T13:25:41.772445",
          "exception": false,
          "start_time": "2023-04-04T13:25:41.769320",
          "status": "completed"
        },
        "tags": [],
        "id": "efbf935e"
      },
      "source": [
        "# Config"
      ]
    },
    {
      "cell_type": "code",
      "execution_count": 14,
      "id": "9b7f198a",
      "metadata": {
        "execution": {
          "iopub.execute_input": "2023-04-04T13:25:41.780977Z",
          "iopub.status.busy": "2023-04-04T13:25:41.779744Z",
          "iopub.status.idle": "2023-04-04T13:25:41.785149Z",
          "shell.execute_reply": "2023-04-04T13:25:41.784052Z"
        },
        "papermill": {
          "duration": 0.011635,
          "end_time": "2023-04-04T13:25:41.787232",
          "exception": false,
          "start_time": "2023-04-04T13:25:41.775597",
          "status": "completed"
        },
        "tags": [],
        "id": "9b7f198a"
      },
      "outputs": [],
      "source": [
        "class CFG:\n",
        "    model_name = 'vit_base_patch16_224'\n",
        "    input_size = 224\n",
        "    batch_size = 64\n",
        "    num_epochs = 6\n",
        "    lr = 1e-4\n",
        "    seed = 42"
      ]
    },
    {
      "cell_type": "code",
      "execution_count": 16,
      "id": "6999f593",
      "metadata": {
        "execution": {
          "iopub.execute_input": "2023-04-04T13:25:41.796067Z",
          "iopub.status.busy": "2023-04-04T13:25:41.794436Z",
          "iopub.status.idle": "2023-04-04T13:25:41.864295Z",
          "shell.execute_reply": "2023-04-04T13:25:41.863322Z"
        },
        "papermill": {
          "duration": 0.076583,
          "end_time": "2023-04-04T13:25:41.866876",
          "exception": false,
          "start_time": "2023-04-04T13:25:41.790293",
          "status": "completed"
        },
        "tags": [],
        "id": "6999f593"
      },
      "outputs": [],
      "source": [
        "def seed_everything(seed):\n",
        "    os.environ['PYTHONHASHSEED'] = str(seed)\n",
        "    random.seed(seed)\n",
        "    np.random.seed(seed)\n",
        "    torch.manual_seed(seed)\n",
        "    \n",
        "    if torch.cuda.is_available(): \n",
        "        torch.cuda.manual_seed(seed)\n",
        "        torch.backends.cudnn.deterministic = True\n",
        "\n",
        "seed_everything(CFG.seed)"
      ]
    },
    {
      "cell_type": "markdown",
      "id": "bef1b8da",
      "metadata": {
        "papermill": {
          "duration": 0.003024,
          "end_time": "2023-04-04T13:25:41.873333",
          "exception": false,
          "start_time": "2023-04-04T13:25:41.870309",
          "status": "completed"
        },
        "tags": [],
        "id": "bef1b8da"
      },
      "source": [
        "# Dataset"
      ]
    },
    {
      "cell_type": "code",
      "execution_count": 17,
      "id": "f96e2f5a",
      "metadata": {
        "execution": {
          "iopub.execute_input": "2023-04-04T13:25:41.880917Z",
          "iopub.status.busy": "2023-04-04T13:25:41.880635Z",
          "iopub.status.idle": "2023-04-04T13:25:41.891186Z",
          "shell.execute_reply": "2023-04-04T13:25:41.890196Z"
        },
        "papermill": {
          "duration": 0.016764,
          "end_time": "2023-04-04T13:25:41.893243",
          "exception": false,
          "start_time": "2023-04-04T13:25:41.876479",
          "status": "completed"
        },
        "tags": [],
        "id": "f96e2f5a"
      },
      "outputs": [],
      "source": [
        "class DiffusionDataset(Dataset):\n",
        "    def __init__(self, df, transform):\n",
        "        self.df = df\n",
        "        self.transform = transform\n",
        "        \n",
        "    def __len__(self):\n",
        "        return len(self.df)\n",
        "\n",
        "    def __getitem__(self, idx):\n",
        "        row = self.df.iloc[idx]\n",
        "        image = Image.open(row['filepath'])\n",
        "        image = self.transform(image)\n",
        "        prompt = row['prompt']\n",
        "        return image, prompt\n",
        "\n",
        "\n",
        "class DiffusionCollator:\n",
        "    def __init__(self):\n",
        "        self.st_model = SentenceTransformer(\n",
        "            './sentence-transformers-222/all-MiniLM-L6-v2',\n",
        "            device='cpu'\n",
        "        )\n",
        "        # self.st_model = SentenceTransformer(\n",
        "        #     '/kaggle/input/sentence-transformers-222/all-MiniLM-L6-v2',\n",
        "        #     device='cpu'\n",
        "        # )\n",
        "    \n",
        "    def __call__(self, batch):\n",
        "        images, prompts = zip(*batch)\n",
        "        images = torch.stack(images)\n",
        "        prompt_embeddings = self.st_model.encode(\n",
        "            prompts, \n",
        "            show_progress_bar=False, \n",
        "            convert_to_tensor=True\n",
        "        )\n",
        "        return images, prompt_embeddings\n",
        "    \n",
        "    \n",
        "def get_dataloaders(\n",
        "    trn_df,\n",
        "    val_df,\n",
        "    input_size,\n",
        "    batch_size\n",
        "):\n",
        "    transform = transforms.Compose([\n",
        "        transforms.Resize(input_size),\n",
        "        transforms.ToTensor(),\n",
        "        transforms.Normalize([0.485, 0.456, 0.406], [0.229, 0.224, 0.225]),\n",
        "    ])\n",
        "\n",
        "    trn_dataset = DiffusionDataset(trn_df, transform)\n",
        "    val_dataset = DiffusionDataset(val_df, transform)\n",
        "    collator = DiffusionCollator()\n",
        "    \n",
        "    dataloaders = {}\n",
        "    dataloaders['train'] = DataLoader(\n",
        "        dataset=trn_dataset,\n",
        "        shuffle=True,\n",
        "        batch_size=batch_size,\n",
        "        pin_memory=True,\n",
        "        num_workers=2,\n",
        "        drop_last=True,\n",
        "        collate_fn=collator\n",
        "    )\n",
        "    dataloaders['val'] = DataLoader(\n",
        "        dataset=val_dataset,\n",
        "        shuffle=False,\n",
        "        batch_size=batch_size,\n",
        "        pin_memory=True,\n",
        "        num_workers=2,\n",
        "        drop_last=False,\n",
        "        collate_fn=collator\n",
        "    )\n",
        "    return dataloaders"
      ]
    },
    {
      "cell_type": "markdown",
      "id": "a47897ef",
      "metadata": {
        "papermill": {
          "duration": 0.003019,
          "end_time": "2023-04-04T13:25:41.899373",
          "exception": false,
          "start_time": "2023-04-04T13:25:41.896354",
          "status": "completed"
        },
        "tags": [],
        "id": "a47897ef"
      },
      "source": [
        "# Train"
      ]
    },
    {
      "cell_type": "code",
      "execution_count": 18,
      "id": "b45a55d4",
      "metadata": {
        "execution": {
          "iopub.execute_input": "2023-04-04T13:25:41.906785Z",
          "iopub.status.busy": "2023-04-04T13:25:41.906521Z",
          "iopub.status.idle": "2023-04-04T13:25:41.911456Z",
          "shell.execute_reply": "2023-04-04T13:25:41.910382Z"
        },
        "papermill": {
          "duration": 0.011423,
          "end_time": "2023-04-04T13:25:41.913935",
          "exception": false,
          "start_time": "2023-04-04T13:25:41.902512",
          "status": "completed"
        },
        "tags": [],
        "id": "b45a55d4"
      },
      "outputs": [],
      "source": [
        "def cosine_similarity(y_trues, y_preds):\n",
        "    return np.mean([\n",
        "        1 - spatial.distance.cosine(y_true, y_pred) \n",
        "        for y_true, y_pred in zip(y_trues, y_preds)\n",
        "    ])"
      ]
    },
    {
      "cell_type": "code",
      "execution_count": 19,
      "id": "51afe626",
      "metadata": {
        "execution": {
          "iopub.execute_input": "2023-04-04T13:25:41.921453Z",
          "iopub.status.busy": "2023-04-04T13:25:41.921191Z",
          "iopub.status.idle": "2023-04-04T13:25:41.937135Z",
          "shell.execute_reply": "2023-04-04T13:25:41.936249Z"
        },
        "papermill": {
          "duration": 0.022088,
          "end_time": "2023-04-04T13:25:41.939144",
          "exception": false,
          "start_time": "2023-04-04T13:25:41.917056",
          "status": "completed"
        },
        "tags": [],
        "id": "51afe626"
      },
      "outputs": [],
      "source": [
        "def train(\n",
        "    trn_df,\n",
        "    val_df,\n",
        "    model_name,\n",
        "    input_size,\n",
        "    batch_size,\n",
        "    num_epochs,\n",
        "    lr\n",
        "):\n",
        "    device = torch.device('cuda' if torch.cuda.is_available() else 'cpu')\n",
        "    dataloaders = get_dataloaders(\n",
        "        trn_df,\n",
        "        val_df,\n",
        "        input_size,\n",
        "        batch_size\n",
        "    )\n",
        "\n",
        "    model = timm.create_model(\n",
        "        model_name,\n",
        "        pretrained=True,\n",
        "        num_classes=384\n",
        "    )\n",
        "    model.set_grad_checkpointing()\n",
        "    model.to(device)\n",
        "    \n",
        "    optimizer = torch.optim.AdamW(model.parameters(), lr=lr)\n",
        "\n",
        "    ttl_iters = num_epochs * len(dataloaders['train'])\n",
        "    scheduler = CosineAnnealingLR(optimizer, T_max=ttl_iters, eta_min=1e-6)\n",
        "    criterion = nn.CosineEmbeddingLoss()\n",
        "    \n",
        "    best_score = -1.0\n",
        "\n",
        "    for epoch in range(num_epochs):\n",
        "        train_meters = {\n",
        "            'loss': AverageMeter(),\n",
        "            'cos': AverageMeter(),\n",
        "        }\n",
        "        model.train()\n",
        "        for X, y in tqdm(dataloaders['train'], leave=False):\n",
        "            X, y = X.to(device), y.to(device)\n",
        "\n",
        "            optimizer.zero_grad()\n",
        "            X_out = model(X)\n",
        "            target = torch.ones(X.size(0)).to(device)\n",
        "            loss = criterion(X_out, y, target)\n",
        "            loss.backward()\n",
        "\n",
        "            optimizer.step()\n",
        "            scheduler.step()\n",
        "\n",
        "            trn_loss = loss.item()\n",
        "            trn_cos = cosine_similarity(\n",
        "                X_out.detach().cpu().numpy(), \n",
        "                y.detach().cpu().numpy()\n",
        "            )\n",
        "\n",
        "            train_meters['loss'].update(trn_loss, n=X.size(0))\n",
        "            train_meters['cos'].update(trn_cos, n=X.size(0))\n",
        "\n",
        "        print('Epoch {:d} / trn/loss={:.4f}, trn/cos={:.4f}'.format(\n",
        "            epoch + 1,\n",
        "            train_meters['loss'].avg,\n",
        "            train_meters['cos'].avg))\n",
        "\n",
        "        val_meters = {\n",
        "            'loss': AverageMeter(),\n",
        "            'cos': AverageMeter(),\n",
        "        }\n",
        "        model.eval()\n",
        "        for X, y in tqdm(dataloaders['val'], leave=False):\n",
        "            X, y = X.to(device), y.to(device)\n",
        "\n",
        "            with torch.no_grad():\n",
        "                X_out = model(X)\n",
        "                target = torch.ones(X.size(0)).to(device)\n",
        "                loss = criterion(X_out, y, target)\n",
        "\n",
        "                val_loss = loss.item()\n",
        "                val_cos = cosine_similarity(\n",
        "                    X_out.detach().cpu().numpy(), \n",
        "                    y.detach().cpu().numpy()\n",
        "                )\n",
        "\n",
        "            val_meters['loss'].update(val_loss, n=X.size(0))\n",
        "            val_meters['cos'].update(val_cos, n=X.size(0))\n",
        "\n",
        "        print('Epoch {:d} / val/loss={:.4f}, val/cos={:.4f}'.format(\n",
        "            epoch + 1,\n",
        "            val_meters['loss'].avg,\n",
        "            val_meters['cos'].avg))\n",
        "        \n",
        "        if val_meters['cos'].avg > best_score:\n",
        "            best_score = val_meters['cos'].avg\n",
        "            torch.save(model.state_dict(), f'{model_name}.pth')"
      ]
    },
    {
      "cell_type": "code",
      "source": [
        "df = pd.read_csv('./diffusiondb-data-cleansing/diffusiondb.csv')\n",
        "df.head()"
      ],
      "metadata": {
        "id": "9G5YfwBlFgk5",
        "outputId": "a3984767-eb68-4083-9197-bdd32e166a9b",
        "colab": {
          "base_uri": "https://localhost:8080/",
          "height": 204
        }
      },
      "id": "9G5YfwBlFgk5",
      "execution_count": 20,
      "outputs": [
        {
          "output_type": "execute_result",
          "data": {
            "text/plain": [
              "                                            filepath  \\\n",
              "0  /kaggle/input/diffusiondb-2m-part-0001-to-0100...   \n",
              "1  /kaggle/input/diffusiondb-2m-part-0001-to-0100...   \n",
              "2  /kaggle/input/diffusiondb-2m-part-0001-to-0100...   \n",
              "3  /kaggle/input/diffusiondb-2m-part-0001-to-0100...   \n",
              "4  /kaggle/input/diffusiondb-2m-part-0001-to-0100...   \n",
              "\n",
              "                                              prompt  \n",
              "0  a portrait of a female robot made from code, v...  \n",
              "1                    dream swimming pool with nobody  \n",
              "2  a beautiful paint of cultists dancing surround...  \n",
              "3  frontal portrait of ragged, worried twin women...  \n",
              "4  a stunning portrait of an asian samurai with l...  "
            ],
            "text/html": [
              "\n",
              "  <div id=\"df-16ef037e-70ce-4311-b242-ea0f39884948\">\n",
              "    <div class=\"colab-df-container\">\n",
              "      <div>\n",
              "<style scoped>\n",
              "    .dataframe tbody tr th:only-of-type {\n",
              "        vertical-align: middle;\n",
              "    }\n",
              "\n",
              "    .dataframe tbody tr th {\n",
              "        vertical-align: top;\n",
              "    }\n",
              "\n",
              "    .dataframe thead th {\n",
              "        text-align: right;\n",
              "    }\n",
              "</style>\n",
              "<table border=\"1\" class=\"dataframe\">\n",
              "  <thead>\n",
              "    <tr style=\"text-align: right;\">\n",
              "      <th></th>\n",
              "      <th>filepath</th>\n",
              "      <th>prompt</th>\n",
              "    </tr>\n",
              "  </thead>\n",
              "  <tbody>\n",
              "    <tr>\n",
              "      <th>0</th>\n",
              "      <td>/kaggle/input/diffusiondb-2m-part-0001-to-0100...</td>\n",
              "      <td>a portrait of a female robot made from code, v...</td>\n",
              "    </tr>\n",
              "    <tr>\n",
              "      <th>1</th>\n",
              "      <td>/kaggle/input/diffusiondb-2m-part-0001-to-0100...</td>\n",
              "      <td>dream swimming pool with nobody</td>\n",
              "    </tr>\n",
              "    <tr>\n",
              "      <th>2</th>\n",
              "      <td>/kaggle/input/diffusiondb-2m-part-0001-to-0100...</td>\n",
              "      <td>a beautiful paint of cultists dancing surround...</td>\n",
              "    </tr>\n",
              "    <tr>\n",
              "      <th>3</th>\n",
              "      <td>/kaggle/input/diffusiondb-2m-part-0001-to-0100...</td>\n",
              "      <td>frontal portrait of ragged, worried twin women...</td>\n",
              "    </tr>\n",
              "    <tr>\n",
              "      <th>4</th>\n",
              "      <td>/kaggle/input/diffusiondb-2m-part-0001-to-0100...</td>\n",
              "      <td>a stunning portrait of an asian samurai with l...</td>\n",
              "    </tr>\n",
              "  </tbody>\n",
              "</table>\n",
              "</div>\n",
              "      <button class=\"colab-df-convert\" onclick=\"convertToInteractive('df-16ef037e-70ce-4311-b242-ea0f39884948')\"\n",
              "              title=\"Convert this dataframe to an interactive table.\"\n",
              "              style=\"display:none;\">\n",
              "        \n",
              "  <svg xmlns=\"http://www.w3.org/2000/svg\" height=\"24px\"viewBox=\"0 0 24 24\"\n",
              "       width=\"24px\">\n",
              "    <path d=\"M0 0h24v24H0V0z\" fill=\"none\"/>\n",
              "    <path d=\"M18.56 5.44l.94 2.06.94-2.06 2.06-.94-2.06-.94-.94-2.06-.94 2.06-2.06.94zm-11 1L8.5 8.5l.94-2.06 2.06-.94-2.06-.94L8.5 2.5l-.94 2.06-2.06.94zm10 10l.94 2.06.94-2.06 2.06-.94-2.06-.94-.94-2.06-.94 2.06-2.06.94z\"/><path d=\"M17.41 7.96l-1.37-1.37c-.4-.4-.92-.59-1.43-.59-.52 0-1.04.2-1.43.59L10.3 9.45l-7.72 7.72c-.78.78-.78 2.05 0 2.83L4 21.41c.39.39.9.59 1.41.59.51 0 1.02-.2 1.41-.59l7.78-7.78 2.81-2.81c.8-.78.8-2.07 0-2.86zM5.41 20L4 18.59l7.72-7.72 1.47 1.35L5.41 20z\"/>\n",
              "  </svg>\n",
              "      </button>\n",
              "      \n",
              "  <style>\n",
              "    .colab-df-container {\n",
              "      display:flex;\n",
              "      flex-wrap:wrap;\n",
              "      gap: 12px;\n",
              "    }\n",
              "\n",
              "    .colab-df-convert {\n",
              "      background-color: #E8F0FE;\n",
              "      border: none;\n",
              "      border-radius: 50%;\n",
              "      cursor: pointer;\n",
              "      display: none;\n",
              "      fill: #1967D2;\n",
              "      height: 32px;\n",
              "      padding: 0 0 0 0;\n",
              "      width: 32px;\n",
              "    }\n",
              "\n",
              "    .colab-df-convert:hover {\n",
              "      background-color: #E2EBFA;\n",
              "      box-shadow: 0px 1px 2px rgba(60, 64, 67, 0.3), 0px 1px 3px 1px rgba(60, 64, 67, 0.15);\n",
              "      fill: #174EA6;\n",
              "    }\n",
              "\n",
              "    [theme=dark] .colab-df-convert {\n",
              "      background-color: #3B4455;\n",
              "      fill: #D2E3FC;\n",
              "    }\n",
              "\n",
              "    [theme=dark] .colab-df-convert:hover {\n",
              "      background-color: #434B5C;\n",
              "      box-shadow: 0px 1px 3px 1px rgba(0, 0, 0, 0.15);\n",
              "      filter: drop-shadow(0px 1px 2px rgba(0, 0, 0, 0.3));\n",
              "      fill: #FFFFFF;\n",
              "    }\n",
              "  </style>\n",
              "\n",
              "      <script>\n",
              "        const buttonEl =\n",
              "          document.querySelector('#df-16ef037e-70ce-4311-b242-ea0f39884948 button.colab-df-convert');\n",
              "        buttonEl.style.display =\n",
              "          google.colab.kernel.accessAllowed ? 'block' : 'none';\n",
              "\n",
              "        async function convertToInteractive(key) {\n",
              "          const element = document.querySelector('#df-16ef037e-70ce-4311-b242-ea0f39884948');\n",
              "          const dataTable =\n",
              "            await google.colab.kernel.invokeFunction('convertToInteractive',\n",
              "                                                     [key], {});\n",
              "          if (!dataTable) return;\n",
              "\n",
              "          const docLinkHtml = 'Like what you see? Visit the ' +\n",
              "            '<a target=\"_blank\" href=https://colab.research.google.com/notebooks/data_table.ipynb>data table notebook</a>'\n",
              "            + ' to learn more about interactive tables.';\n",
              "          element.innerHTML = '';\n",
              "          dataTable['output_type'] = 'display_data';\n",
              "          await google.colab.output.renderOutput(dataTable, element);\n",
              "          const docLink = document.createElement('div');\n",
              "          docLink.innerHTML = docLinkHtml;\n",
              "          element.appendChild(docLink);\n",
              "        }\n",
              "      </script>\n",
              "    </div>\n",
              "  </div>\n",
              "  "
            ]
          },
          "metadata": {},
          "execution_count": 20
        }
      ]
    },
    {
      "cell_type": "code",
      "source": [
        "df.filepath = df.filepath.str.replace('/kaggle/input', '.', regex=True)\n",
        "df"
      ],
      "metadata": {
        "id": "i3Th0qCKFoc8",
        "outputId": "5359bb89-7611-44ff-bfb3-48e29b1dec68",
        "colab": {
          "base_uri": "https://localhost:8080/",
          "height": 419
        }
      },
      "id": "i3Th0qCKFoc8",
      "execution_count": 22,
      "outputs": [
        {
          "output_type": "execute_result",
          "data": {
            "text/plain": [
              "                                                 filepath  \\\n",
              "0       ./diffusiondb-2m-part-0001-to-0100-of-2000/221...   \n",
              "1       ./diffusiondb-2m-part-0001-to-0100-of-2000/48e...   \n",
              "2       ./diffusiondb-2m-part-0001-to-0100-of-2000/291...   \n",
              "3       ./diffusiondb-2m-part-0001-to-0100-of-2000/3c8...   \n",
              "4       ./diffusiondb-2m-part-0001-to-0100-of-2000/454...   \n",
              "...                                                   ...   \n",
              "154315  ./diffusiondb-2m-part-1901-to-2000-of-2000/f14...   \n",
              "154316  ./diffusiondb-2m-part-1901-to-2000-of-2000/170...   \n",
              "154317  ./diffusiondb-2m-part-1901-to-2000-of-2000/be9...   \n",
              "154318  ./diffusiondb-2m-part-1901-to-2000-of-2000/cfc...   \n",
              "154319  ./diffusiondb-2m-part-1901-to-2000-of-2000/4ff...   \n",
              "\n",
              "                                                   prompt  \n",
              "0       a portrait of a female robot made from code, v...  \n",
              "1                         dream swimming pool with nobody  \n",
              "2       a beautiful paint of cultists dancing surround...  \n",
              "3       frontal portrait of ragged, worried twin women...  \n",
              "4       a stunning portrait of an asian samurai with l...  \n",
              "...                                                   ...  \n",
              "154315  obama transformed into a penguin, a combinatio...  \n",
              "154316             new york invaded by nazis, concept art  \n",
              "154317  a owlish, aquiline picture of an owl sitting o...  \n",
              "154318  a owlish, elaborate painting of an owl sitting...  \n",
              "154319               a rose with the face of jerry garcia  \n",
              "\n",
              "[154320 rows x 2 columns]"
            ],
            "text/html": [
              "\n",
              "  <div id=\"df-0799093b-513e-4738-8d1e-074005ca3670\">\n",
              "    <div class=\"colab-df-container\">\n",
              "      <div>\n",
              "<style scoped>\n",
              "    .dataframe tbody tr th:only-of-type {\n",
              "        vertical-align: middle;\n",
              "    }\n",
              "\n",
              "    .dataframe tbody tr th {\n",
              "        vertical-align: top;\n",
              "    }\n",
              "\n",
              "    .dataframe thead th {\n",
              "        text-align: right;\n",
              "    }\n",
              "</style>\n",
              "<table border=\"1\" class=\"dataframe\">\n",
              "  <thead>\n",
              "    <tr style=\"text-align: right;\">\n",
              "      <th></th>\n",
              "      <th>filepath</th>\n",
              "      <th>prompt</th>\n",
              "    </tr>\n",
              "  </thead>\n",
              "  <tbody>\n",
              "    <tr>\n",
              "      <th>0</th>\n",
              "      <td>./diffusiondb-2m-part-0001-to-0100-of-2000/221...</td>\n",
              "      <td>a portrait of a female robot made from code, v...</td>\n",
              "    </tr>\n",
              "    <tr>\n",
              "      <th>1</th>\n",
              "      <td>./diffusiondb-2m-part-0001-to-0100-of-2000/48e...</td>\n",
              "      <td>dream swimming pool with nobody</td>\n",
              "    </tr>\n",
              "    <tr>\n",
              "      <th>2</th>\n",
              "      <td>./diffusiondb-2m-part-0001-to-0100-of-2000/291...</td>\n",
              "      <td>a beautiful paint of cultists dancing surround...</td>\n",
              "    </tr>\n",
              "    <tr>\n",
              "      <th>3</th>\n",
              "      <td>./diffusiondb-2m-part-0001-to-0100-of-2000/3c8...</td>\n",
              "      <td>frontal portrait of ragged, worried twin women...</td>\n",
              "    </tr>\n",
              "    <tr>\n",
              "      <th>4</th>\n",
              "      <td>./diffusiondb-2m-part-0001-to-0100-of-2000/454...</td>\n",
              "      <td>a stunning portrait of an asian samurai with l...</td>\n",
              "    </tr>\n",
              "    <tr>\n",
              "      <th>...</th>\n",
              "      <td>...</td>\n",
              "      <td>...</td>\n",
              "    </tr>\n",
              "    <tr>\n",
              "      <th>154315</th>\n",
              "      <td>./diffusiondb-2m-part-1901-to-2000-of-2000/f14...</td>\n",
              "      <td>obama transformed into a penguin, a combinatio...</td>\n",
              "    </tr>\n",
              "    <tr>\n",
              "      <th>154316</th>\n",
              "      <td>./diffusiondb-2m-part-1901-to-2000-of-2000/170...</td>\n",
              "      <td>new york invaded by nazis, concept art</td>\n",
              "    </tr>\n",
              "    <tr>\n",
              "      <th>154317</th>\n",
              "      <td>./diffusiondb-2m-part-1901-to-2000-of-2000/be9...</td>\n",
              "      <td>a owlish, aquiline picture of an owl sitting o...</td>\n",
              "    </tr>\n",
              "    <tr>\n",
              "      <th>154318</th>\n",
              "      <td>./diffusiondb-2m-part-1901-to-2000-of-2000/cfc...</td>\n",
              "      <td>a owlish, elaborate painting of an owl sitting...</td>\n",
              "    </tr>\n",
              "    <tr>\n",
              "      <th>154319</th>\n",
              "      <td>./diffusiondb-2m-part-1901-to-2000-of-2000/4ff...</td>\n",
              "      <td>a rose with the face of jerry garcia</td>\n",
              "    </tr>\n",
              "  </tbody>\n",
              "</table>\n",
              "<p>154320 rows × 2 columns</p>\n",
              "</div>\n",
              "      <button class=\"colab-df-convert\" onclick=\"convertToInteractive('df-0799093b-513e-4738-8d1e-074005ca3670')\"\n",
              "              title=\"Convert this dataframe to an interactive table.\"\n",
              "              style=\"display:none;\">\n",
              "        \n",
              "  <svg xmlns=\"http://www.w3.org/2000/svg\" height=\"24px\"viewBox=\"0 0 24 24\"\n",
              "       width=\"24px\">\n",
              "    <path d=\"M0 0h24v24H0V0z\" fill=\"none\"/>\n",
              "    <path d=\"M18.56 5.44l.94 2.06.94-2.06 2.06-.94-2.06-.94-.94-2.06-.94 2.06-2.06.94zm-11 1L8.5 8.5l.94-2.06 2.06-.94-2.06-.94L8.5 2.5l-.94 2.06-2.06.94zm10 10l.94 2.06.94-2.06 2.06-.94-2.06-.94-.94-2.06-.94 2.06-2.06.94z\"/><path d=\"M17.41 7.96l-1.37-1.37c-.4-.4-.92-.59-1.43-.59-.52 0-1.04.2-1.43.59L10.3 9.45l-7.72 7.72c-.78.78-.78 2.05 0 2.83L4 21.41c.39.39.9.59 1.41.59.51 0 1.02-.2 1.41-.59l7.78-7.78 2.81-2.81c.8-.78.8-2.07 0-2.86zM5.41 20L4 18.59l7.72-7.72 1.47 1.35L5.41 20z\"/>\n",
              "  </svg>\n",
              "      </button>\n",
              "      \n",
              "  <style>\n",
              "    .colab-df-container {\n",
              "      display:flex;\n",
              "      flex-wrap:wrap;\n",
              "      gap: 12px;\n",
              "    }\n",
              "\n",
              "    .colab-df-convert {\n",
              "      background-color: #E8F0FE;\n",
              "      border: none;\n",
              "      border-radius: 50%;\n",
              "      cursor: pointer;\n",
              "      display: none;\n",
              "      fill: #1967D2;\n",
              "      height: 32px;\n",
              "      padding: 0 0 0 0;\n",
              "      width: 32px;\n",
              "    }\n",
              "\n",
              "    .colab-df-convert:hover {\n",
              "      background-color: #E2EBFA;\n",
              "      box-shadow: 0px 1px 2px rgba(60, 64, 67, 0.3), 0px 1px 3px 1px rgba(60, 64, 67, 0.15);\n",
              "      fill: #174EA6;\n",
              "    }\n",
              "\n",
              "    [theme=dark] .colab-df-convert {\n",
              "      background-color: #3B4455;\n",
              "      fill: #D2E3FC;\n",
              "    }\n",
              "\n",
              "    [theme=dark] .colab-df-convert:hover {\n",
              "      background-color: #434B5C;\n",
              "      box-shadow: 0px 1px 3px 1px rgba(0, 0, 0, 0.15);\n",
              "      filter: drop-shadow(0px 1px 2px rgba(0, 0, 0, 0.3));\n",
              "      fill: #FFFFFF;\n",
              "    }\n",
              "  </style>\n",
              "\n",
              "      <script>\n",
              "        const buttonEl =\n",
              "          document.querySelector('#df-0799093b-513e-4738-8d1e-074005ca3670 button.colab-df-convert');\n",
              "        buttonEl.style.display =\n",
              "          google.colab.kernel.accessAllowed ? 'block' : 'none';\n",
              "\n",
              "        async function convertToInteractive(key) {\n",
              "          const element = document.querySelector('#df-0799093b-513e-4738-8d1e-074005ca3670');\n",
              "          const dataTable =\n",
              "            await google.colab.kernel.invokeFunction('convertToInteractive',\n",
              "                                                     [key], {});\n",
              "          if (!dataTable) return;\n",
              "\n",
              "          const docLinkHtml = 'Like what you see? Visit the ' +\n",
              "            '<a target=\"_blank\" href=https://colab.research.google.com/notebooks/data_table.ipynb>data table notebook</a>'\n",
              "            + ' to learn more about interactive tables.';\n",
              "          element.innerHTML = '';\n",
              "          dataTable['output_type'] = 'display_data';\n",
              "          await google.colab.output.renderOutput(dataTable, element);\n",
              "          const docLink = document.createElement('div');\n",
              "          docLink.innerHTML = docLinkHtml;\n",
              "          element.appendChild(docLink);\n",
              "        }\n",
              "      </script>\n",
              "    </div>\n",
              "  </div>\n",
              "  "
            ]
          },
          "metadata": {},
          "execution_count": 22
        }
      ]
    },
    {
      "cell_type": "code",
      "execution_count": null,
      "id": "564e150a",
      "metadata": {
        "execution": {
          "iopub.execute_input": "2023-04-04T13:25:41.946598Z",
          "iopub.status.busy": "2023-04-04T13:25:41.946321Z",
          "iopub.status.idle": "2023-04-04T13:25:42.686537Z",
          "shell.execute_reply": "2023-04-04T13:25:42.685468Z"
        },
        "papermill": {
          "duration": 0.746927,
          "end_time": "2023-04-04T13:25:42.689227",
          "exception": false,
          "start_time": "2023-04-04T13:25:41.942300",
          "status": "completed"
        },
        "tags": [],
        "id": "564e150a"
      },
      "outputs": [],
      "source": [
        "trn_df, val_df = train_test_split(df, test_size=0.1, random_state=CFG.seed)"
      ]
    },
    {
      "cell_type": "code",
      "execution_count": null,
      "id": "37b51ad9",
      "metadata": {
        "execution": {
          "iopub.execute_input": "2023-04-04T13:25:42.697349Z",
          "iopub.status.busy": "2023-04-04T13:25:42.697030Z",
          "iopub.status.idle": "2023-04-04T13:25:42.701348Z",
          "shell.execute_reply": "2023-04-04T13:25:42.700231Z"
        },
        "papermill": {
          "duration": 0.011112,
          "end_time": "2023-04-04T13:25:42.703827",
          "exception": false,
          "start_time": "2023-04-04T13:25:42.692715",
          "status": "completed"
        },
        "tags": [],
        "id": "37b51ad9"
      },
      "outputs": [],
      "source": [
        "# trn_df = df[:2]\n",
        "# val_df = df[2:4]\n",
        "# val_df"
      ]
    },
    {
      "cell_type": "code",
      "execution_count": null,
      "id": "b6a1db70",
      "metadata": {
        "execution": {
          "iopub.execute_input": "2023-04-04T13:25:42.711307Z",
          "iopub.status.busy": "2023-04-04T13:25:42.711039Z",
          "iopub.status.idle": "2023-04-04T21:58:23.279728Z",
          "shell.execute_reply": "2023-04-04T21:58:23.278160Z"
        },
        "papermill": {
          "duration": 30760.575215,
          "end_time": "2023-04-04T21:58:23.282187",
          "exception": false,
          "start_time": "2023-04-04T13:25:42.706972",
          "status": "completed"
        },
        "tags": [],
        "id": "b6a1db70",
        "outputId": "e3f4cf86-9da2-4bf7-e2df-9090ec212b5c",
        "colab": {
          "referenced_widgets": [
            "c8cd292dde9f4ca8b50b398987356934",
            "19523762fb8b4a1aabc4d79c0ccdb56d",
            "5411135b1c2848a6a5162b528f3454d4",
            "0f7f040686e44b9f883eb02d9c85b20e",
            "45d257d145594e93b35331e0cd37b49e",
            "1981fd04415c40fd9417fc8f6b1048f6",
            "a620bc3f4e3f422d86c05b25204e0791",
            "9236c9cfc57a49b0b517c97f6d1fc151",
            "e8c105c842144442a49b879ee8b6de56",
            "bc848b162dd0438588941f4cdd11a6ad",
            "21fd3d3173ab4238937e4a991a7e2845",
            "cd4b5f842d7a48d5a5bfb9354239e33f"
          ]
        }
      },
      "outputs": [
        {
          "data": {
            "application/vnd.jupyter.widget-view+json": {
              "model_id": "c8cd292dde9f4ca8b50b398987356934",
              "version_major": 2,
              "version_minor": 0
            },
            "text/plain": [
              "  0%|          | 0/2170 [00:00<?, ?it/s]"
            ]
          },
          "metadata": {},
          "output_type": "display_data"
        },
        {
          "name": "stdout",
          "output_type": "stream",
          "text": [
            "Epoch 1 / trn/loss=0.5024, trn/cos=0.4976\n"
          ]
        },
        {
          "data": {
            "application/vnd.jupyter.widget-view+json": {
              "model_id": "19523762fb8b4a1aabc4d79c0ccdb56d",
              "version_major": 2,
              "version_minor": 0
            },
            "text/plain": [
              "  0%|          | 0/242 [00:00<?, ?it/s]"
            ]
          },
          "metadata": {},
          "output_type": "display_data"
        },
        {
          "name": "stdout",
          "output_type": "stream",
          "text": [
            "Epoch 1 / val/loss=0.4674, val/cos=0.5326\n"
          ]
        },
        {
          "data": {
            "application/vnd.jupyter.widget-view+json": {
              "model_id": "5411135b1c2848a6a5162b528f3454d4",
              "version_major": 2,
              "version_minor": 0
            },
            "text/plain": [
              "  0%|          | 0/2170 [00:00<?, ?it/s]"
            ]
          },
          "metadata": {},
          "output_type": "display_data"
        },
        {
          "name": "stdout",
          "output_type": "stream",
          "text": [
            "Epoch 2 / trn/loss=0.4364, trn/cos=0.5636\n"
          ]
        },
        {
          "data": {
            "application/vnd.jupyter.widget-view+json": {
              "model_id": "0f7f040686e44b9f883eb02d9c85b20e",
              "version_major": 2,
              "version_minor": 0
            },
            "text/plain": [
              "  0%|          | 0/242 [00:00<?, ?it/s]"
            ]
          },
          "metadata": {},
          "output_type": "display_data"
        },
        {
          "name": "stdout",
          "output_type": "stream",
          "text": [
            "Epoch 2 / val/loss=0.4468, val/cos=0.5532\n"
          ]
        },
        {
          "data": {
            "application/vnd.jupyter.widget-view+json": {
              "model_id": "45d257d145594e93b35331e0cd37b49e",
              "version_major": 2,
              "version_minor": 0
            },
            "text/plain": [
              "  0%|          | 0/2170 [00:00<?, ?it/s]"
            ]
          },
          "metadata": {},
          "output_type": "display_data"
        },
        {
          "name": "stdout",
          "output_type": "stream",
          "text": [
            "Epoch 3 / trn/loss=0.3949, trn/cos=0.6051\n"
          ]
        },
        {
          "data": {
            "application/vnd.jupyter.widget-view+json": {
              "model_id": "1981fd04415c40fd9417fc8f6b1048f6",
              "version_major": 2,
              "version_minor": 0
            },
            "text/plain": [
              "  0%|          | 0/242 [00:00<?, ?it/s]"
            ]
          },
          "metadata": {},
          "output_type": "display_data"
        },
        {
          "name": "stdout",
          "output_type": "stream",
          "text": [
            "Epoch 3 / val/loss=0.4381, val/cos=0.5619\n"
          ]
        },
        {
          "data": {
            "application/vnd.jupyter.widget-view+json": {
              "model_id": "a620bc3f4e3f422d86c05b25204e0791",
              "version_major": 2,
              "version_minor": 0
            },
            "text/plain": [
              "  0%|          | 0/2170 [00:00<?, ?it/s]"
            ]
          },
          "metadata": {},
          "output_type": "display_data"
        },
        {
          "name": "stdout",
          "output_type": "stream",
          "text": [
            "Epoch 4 / trn/loss=0.3519, trn/cos=0.6481\n"
          ]
        },
        {
          "data": {
            "application/vnd.jupyter.widget-view+json": {
              "model_id": "9236c9cfc57a49b0b517c97f6d1fc151",
              "version_major": 2,
              "version_minor": 0
            },
            "text/plain": [
              "  0%|          | 0/242 [00:00<?, ?it/s]"
            ]
          },
          "metadata": {},
          "output_type": "display_data"
        },
        {
          "name": "stdout",
          "output_type": "stream",
          "text": [
            "Epoch 4 / val/loss=0.4394, val/cos=0.5606\n"
          ]
        },
        {
          "data": {
            "application/vnd.jupyter.widget-view+json": {
              "model_id": "e8c105c842144442a49b879ee8b6de56",
              "version_major": 2,
              "version_minor": 0
            },
            "text/plain": [
              "  0%|          | 0/2170 [00:00<?, ?it/s]"
            ]
          },
          "metadata": {},
          "output_type": "display_data"
        },
        {
          "name": "stdout",
          "output_type": "stream",
          "text": [
            "Epoch 5 / trn/loss=0.3116, trn/cos=0.6884\n"
          ]
        },
        {
          "data": {
            "application/vnd.jupyter.widget-view+json": {
              "model_id": "bc848b162dd0438588941f4cdd11a6ad",
              "version_major": 2,
              "version_minor": 0
            },
            "text/plain": [
              "  0%|          | 0/242 [00:00<?, ?it/s]"
            ]
          },
          "metadata": {},
          "output_type": "display_data"
        },
        {
          "name": "stdout",
          "output_type": "stream",
          "text": [
            "Epoch 5 / val/loss=0.4456, val/cos=0.5544\n"
          ]
        },
        {
          "data": {
            "application/vnd.jupyter.widget-view+json": {
              "model_id": "21fd3d3173ab4238937e4a991a7e2845",
              "version_major": 2,
              "version_minor": 0
            },
            "text/plain": [
              "  0%|          | 0/2170 [00:00<?, ?it/s]"
            ]
          },
          "metadata": {},
          "output_type": "display_data"
        },
        {
          "name": "stdout",
          "output_type": "stream",
          "text": [
            "Epoch 6 / trn/loss=0.2856, trn/cos=0.7144\n"
          ]
        },
        {
          "data": {
            "application/vnd.jupyter.widget-view+json": {
              "model_id": "cd4b5f842d7a48d5a5bfb9354239e33f",
              "version_major": 2,
              "version_minor": 0
            },
            "text/plain": [
              "  0%|          | 0/242 [00:00<?, ?it/s]"
            ]
          },
          "metadata": {},
          "output_type": "display_data"
        },
        {
          "name": "stdout",
          "output_type": "stream",
          "text": [
            "Epoch 6 / val/loss=0.4529, val/cos=0.5471\n"
          ]
        }
      ],
      "source": [
        "train(trn_df, val_df, CFG.model_name, CFG.input_size, CFG.batch_size, CFG.num_epochs, CFG.lr)"
      ]
    },
    {
      "cell_type": "code",
      "execution_count": null,
      "id": "f74eabef",
      "metadata": {
        "execution": {
          "iopub.execute_input": "2023-04-04T21:58:23.294798Z",
          "iopub.status.busy": "2023-04-04T21:58:23.294472Z",
          "iopub.status.idle": "2023-04-04T21:58:23.299972Z",
          "shell.execute_reply": "2023-04-04T21:58:23.299047Z"
        },
        "papermill": {
          "duration": 0.014463,
          "end_time": "2023-04-04T21:58:23.302091",
          "exception": false,
          "start_time": "2023-04-04T21:58:23.287628",
          "status": "completed"
        },
        "tags": [],
        "id": "f74eabef"
      },
      "outputs": [],
      "source": [
        "# model = timm.create_model(\n",
        "#     CFG.model_name,\n",
        "#     pretrained=True,\n",
        "#     num_classes=384\n",
        "# )\n",
        "# model.load_state_dict(torch.load('{CFG.model_name}.pth'))\n",
        "\n",
        "# model.eval()\n",
        "# for X, y in tqdm(dataloaders['val'], leave=False):\n",
        "#     X, y = X.to(device), y.to(device)\n",
        "\n",
        "#     with torch.no_grad():\n",
        "#         X_out = model(X)\n",
        "#         target = torch.ones(X.size(0)).to(device)\n",
        "#         loss = criterion(X_out, y, target)\n"
      ]
    }
  ],
  "metadata": {
    "kernelspec": {
      "display_name": "Python 3",
      "language": "python",
      "name": "python3"
    },
    "language_info": {
      "codemirror_mode": {
        "name": "ipython",
        "version": 3
      },
      "file_extension": ".py",
      "mimetype": "text/x-python",
      "name": "python",
      "nbconvert_exporter": "python",
      "pygments_lexer": "ipython3",
      "version": "3.7.12"
    },
    "papermill": {
      "default_parameters": {},
      "duration": 30786.129377,
      "end_time": "2023-04-04T21:58:26.542178",
      "environment_variables": {},
      "exception": null,
      "input_path": "__notebook__.ipynb",
      "output_path": "__notebook__.ipynb",
      "parameters": {},
      "start_time": "2023-04-04T13:25:20.412801",
      "version": "2.4.0"
    },
    "colab": {
      "provenance": []
    }
  },
  "nbformat": 4,
  "nbformat_minor": 5
}