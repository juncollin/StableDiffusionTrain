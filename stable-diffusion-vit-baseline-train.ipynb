{
  "cells": [
    {
      "cell_type": "code",
      "source": [
        "import os\n",
        "import json\n",
        "from google.colab import drive\n",
        "\n",
        "!pip install kaggle\n",
        "\n",
        "drive.mount('/content/gdrive')\n",
        "\n",
        "f = open(\"/content/gdrive/My Drive/Colab Notebooks/Kaggle/kaggle.json\", 'r')\n",
        "json_data = json.load(f) \n",
        "os.environ['KAGGLE_USERNAME'] = json_data['username']\n",
        "os.environ['KAGGLE_KEY'] = json_data['key']\n",
        "\n",
        "!kaggle competitions download -c stable-diffusion-image-to-prompts\n",
        "!mkdir /content/input\n",
        "!mv /content/stable-diffusion-image-to-prompts.zip /content/input/stable-diffusion-image-to-prompts.zip\n",
        "!unzip /content/input/stable-diffusion-image-to-prompts.zip -d /content/input/"
      ],
      "metadata": {
        "id": "0HwcNGJ44FRx",
        "outputId": "0fd86ed3-7e5a-423e-ccaa-0affb6918e5e",
        "colab": {
          "base_uri": "https://localhost:8080/"
        }
      },
      "id": "0HwcNGJ44FRx",
      "execution_count": 9,
      "outputs": [
        {
          "output_type": "stream",
          "name": "stdout",
          "text": [
            "Archive:  /content/input/stable-diffusion-image-to-prompts.zip\n",
            "  inflating: /content/input/images/20057f34d.png  \n",
            "  inflating: /content/input/images/227ef0887.png  \n",
            "  inflating: /content/input/images/92e911621.png  \n",
            "  inflating: /content/input/images/a4e1c55a9.png  \n",
            "  inflating: /content/input/images/c98f79f71.png  \n",
            "  inflating: /content/input/images/d8edf2e40.png  \n",
            "  inflating: /content/input/images/f27825b2c.png  \n",
            "  inflating: /content/input/prompts.csv  \n",
            "  inflating: /content/input/sample_submission.csv  \n"
          ]
        }
      ]
    },
    {
      "cell_type": "markdown",
      "id": "cb9cb652",
      "metadata": {
        "papermill": {
          "duration": 0.004251,
          "end_time": "2023-04-04T13:25:29.211054",
          "exception": false,
          "start_time": "2023-04-04T13:25:29.206803",
          "status": "completed"
        },
        "tags": [],
        "id": "cb9cb652"
      },
      "source": [
        "# Library"
      ]
    },
    {
      "cell_type": "code",
      "execution_count": null,
      "id": "f942bbda",
      "metadata": {
        "execution": {
          "iopub.execute_input": "2023-04-04T13:25:29.219780Z",
          "iopub.status.busy": "2023-04-04T13:25:29.218862Z",
          "iopub.status.idle": "2023-04-04T13:25:41.763051Z",
          "shell.execute_reply": "2023-04-04T13:25:41.762066Z"
        },
        "papermill": {
          "duration": 12.551246,
          "end_time": "2023-04-04T13:25:41.765870",
          "exception": false,
          "start_time": "2023-04-04T13:25:29.214624",
          "status": "completed"
        },
        "tags": [],
        "id": "f942bbda"
      },
      "outputs": [],
      "source": [
        "import os\n",
        "import random\n",
        "import numpy as np\n",
        "import pandas as pd\n",
        "from PIL import Image\n",
        "from tqdm.notebook import tqdm\n",
        "from scipy import spatial\n",
        "from sklearn.model_selection import train_test_split\n",
        "import torch\n",
        "from torch import nn\n",
        "from torch.utils.data import Dataset, DataLoader\n",
        "from torch.optim.lr_scheduler import CosineAnnealingLR\n",
        "from torchvision import transforms\n",
        "import timm\n",
        "from timm.utils import AverageMeter\n",
        "import sys\n",
        "sys.path.append('../input/sentence-transformers-222/sentence-transformers')\n",
        "from sentence_transformers import SentenceTransformer\n",
        "import warnings\n",
        "warnings.filterwarnings('ignore')"
      ]
    },
    {
      "cell_type": "markdown",
      "id": "efbf935e",
      "metadata": {
        "papermill": {
          "duration": 0.003125,
          "end_time": "2023-04-04T13:25:41.772445",
          "exception": false,
          "start_time": "2023-04-04T13:25:41.769320",
          "status": "completed"
        },
        "tags": [],
        "id": "efbf935e"
      },
      "source": [
        "# Config"
      ]
    },
    {
      "cell_type": "code",
      "execution_count": null,
      "id": "9b7f198a",
      "metadata": {
        "execution": {
          "iopub.execute_input": "2023-04-04T13:25:41.780977Z",
          "iopub.status.busy": "2023-04-04T13:25:41.779744Z",
          "iopub.status.idle": "2023-04-04T13:25:41.785149Z",
          "shell.execute_reply": "2023-04-04T13:25:41.784052Z"
        },
        "papermill": {
          "duration": 0.011635,
          "end_time": "2023-04-04T13:25:41.787232",
          "exception": false,
          "start_time": "2023-04-04T13:25:41.775597",
          "status": "completed"
        },
        "tags": [],
        "id": "9b7f198a"
      },
      "outputs": [],
      "source": [
        "class CFG:\n",
        "    model_name = 'vit_base_patch16_224'\n",
        "    input_size = 224\n",
        "    batch_size = 64\n",
        "    num_epochs = 6\n",
        "    lr = 1e-4\n",
        "    seed = 42"
      ]
    },
    {
      "cell_type": "code",
      "execution_count": null,
      "id": "6999f593",
      "metadata": {
        "execution": {
          "iopub.execute_input": "2023-04-04T13:25:41.796067Z",
          "iopub.status.busy": "2023-04-04T13:25:41.794436Z",
          "iopub.status.idle": "2023-04-04T13:25:41.864295Z",
          "shell.execute_reply": "2023-04-04T13:25:41.863322Z"
        },
        "papermill": {
          "duration": 0.076583,
          "end_time": "2023-04-04T13:25:41.866876",
          "exception": false,
          "start_time": "2023-04-04T13:25:41.790293",
          "status": "completed"
        },
        "tags": [],
        "id": "6999f593"
      },
      "outputs": [],
      "source": [
        "def seed_everything(seed):\n",
        "    os.environ['PYTHONHASHSEED'] = str(seed)\n",
        "    random.seed(seed)\n",
        "    np.random.seed(seed)\n",
        "    torch.manual_seed(seed)\n",
        "    \n",
        "    if torch.cuda.is_available(): \n",
        "        torch.cuda.manual_seed(seed)\n",
        "        torch.backends.cudnn.deterministic = True\n",
        "\n",
        "\n",
        "seed_everything(CFG.seed)"
      ]
    },
    {
      "cell_type": "markdown",
      "id": "bef1b8da",
      "metadata": {
        "papermill": {
          "duration": 0.003024,
          "end_time": "2023-04-04T13:25:41.873333",
          "exception": false,
          "start_time": "2023-04-04T13:25:41.870309",
          "status": "completed"
        },
        "tags": [],
        "id": "bef1b8da"
      },
      "source": [
        "# Dataset"
      ]
    },
    {
      "cell_type": "code",
      "execution_count": null,
      "id": "f96e2f5a",
      "metadata": {
        "execution": {
          "iopub.execute_input": "2023-04-04T13:25:41.880917Z",
          "iopub.status.busy": "2023-04-04T13:25:41.880635Z",
          "iopub.status.idle": "2023-04-04T13:25:41.891186Z",
          "shell.execute_reply": "2023-04-04T13:25:41.890196Z"
        },
        "papermill": {
          "duration": 0.016764,
          "end_time": "2023-04-04T13:25:41.893243",
          "exception": false,
          "start_time": "2023-04-04T13:25:41.876479",
          "status": "completed"
        },
        "tags": [],
        "id": "f96e2f5a"
      },
      "outputs": [],
      "source": [
        "class DiffusionDataset(Dataset):\n",
        "    def __init__(self, df, transform):\n",
        "        self.df = df\n",
        "        self.transform = transform\n",
        "        \n",
        "    def __len__(self):\n",
        "        return len(self.df)\n",
        "\n",
        "    def __getitem__(self, idx):\n",
        "        row = self.df.iloc[idx]\n",
        "        image = Image.open(row['filepath'])\n",
        "        image = self.transform(image)\n",
        "        prompt = row['prompt']\n",
        "        return image, prompt\n",
        "\n",
        "\n",
        "class DiffusionCollator:\n",
        "    def __init__(self):\n",
        "        self.st_model = SentenceTransformer(\n",
        "            '/kaggle/input/sentence-transformers-222/all-MiniLM-L6-v2',\n",
        "            device='cpu'\n",
        "        )\n",
        "    \n",
        "    def __call__(self, batch):\n",
        "        images, prompts = zip(*batch)\n",
        "        images = torch.stack(images)\n",
        "        prompt_embeddings = self.st_model.encode(\n",
        "            prompts, \n",
        "            show_progress_bar=False, \n",
        "            convert_to_tensor=True\n",
        "        )\n",
        "        return images, prompt_embeddings\n",
        "    \n",
        "    \n",
        "def get_dataloaders(\n",
        "    trn_df,\n",
        "    val_df,\n",
        "    input_size,\n",
        "    batch_size\n",
        "):\n",
        "    transform = transforms.Compose([\n",
        "        transforms.Resize(input_size),\n",
        "        transforms.ToTensor(),\n",
        "        transforms.Normalize([0.485, 0.456, 0.406], [0.229, 0.224, 0.225]),\n",
        "    ])\n",
        "\n",
        "    trn_dataset = DiffusionDataset(trn_df, transform)\n",
        "    val_dataset = DiffusionDataset(val_df, transform)\n",
        "    collator = DiffusionCollator()\n",
        "    \n",
        "    dataloaders = {}\n",
        "    dataloaders['train'] = DataLoader(\n",
        "        dataset=trn_dataset,\n",
        "        shuffle=True,\n",
        "        batch_size=batch_size,\n",
        "        pin_memory=True,\n",
        "        num_workers=2,\n",
        "        drop_last=True,\n",
        "        collate_fn=collator\n",
        "    )\n",
        "    dataloaders['val'] = DataLoader(\n",
        "        dataset=val_dataset,\n",
        "        shuffle=False,\n",
        "        batch_size=batch_size,\n",
        "        pin_memory=True,\n",
        "        num_workers=2,\n",
        "        drop_last=False,\n",
        "        collate_fn=collator\n",
        "    )\n",
        "    return dataloaders"
      ]
    },
    {
      "cell_type": "markdown",
      "id": "a47897ef",
      "metadata": {
        "papermill": {
          "duration": 0.003019,
          "end_time": "2023-04-04T13:25:41.899373",
          "exception": false,
          "start_time": "2023-04-04T13:25:41.896354",
          "status": "completed"
        },
        "tags": [],
        "id": "a47897ef"
      },
      "source": [
        "# Train"
      ]
    },
    {
      "cell_type": "code",
      "execution_count": null,
      "id": "b45a55d4",
      "metadata": {
        "execution": {
          "iopub.execute_input": "2023-04-04T13:25:41.906785Z",
          "iopub.status.busy": "2023-04-04T13:25:41.906521Z",
          "iopub.status.idle": "2023-04-04T13:25:41.911456Z",
          "shell.execute_reply": "2023-04-04T13:25:41.910382Z"
        },
        "papermill": {
          "duration": 0.011423,
          "end_time": "2023-04-04T13:25:41.913935",
          "exception": false,
          "start_time": "2023-04-04T13:25:41.902512",
          "status": "completed"
        },
        "tags": [],
        "id": "b45a55d4"
      },
      "outputs": [],
      "source": [
        "def cosine_similarity(y_trues, y_preds):\n",
        "    return np.mean([\n",
        "        1 - spatial.distance.cosine(y_true, y_pred) \n",
        "        for y_true, y_pred in zip(y_trues, y_preds)\n",
        "    ])"
      ]
    },
    {
      "cell_type": "code",
      "execution_count": null,
      "id": "51afe626",
      "metadata": {
        "execution": {
          "iopub.execute_input": "2023-04-04T13:25:41.921453Z",
          "iopub.status.busy": "2023-04-04T13:25:41.921191Z",
          "iopub.status.idle": "2023-04-04T13:25:41.937135Z",
          "shell.execute_reply": "2023-04-04T13:25:41.936249Z"
        },
        "papermill": {
          "duration": 0.022088,
          "end_time": "2023-04-04T13:25:41.939144",
          "exception": false,
          "start_time": "2023-04-04T13:25:41.917056",
          "status": "completed"
        },
        "tags": [],
        "id": "51afe626"
      },
      "outputs": [],
      "source": [
        "def train(\n",
        "    trn_df,\n",
        "    val_df,\n",
        "    model_name,\n",
        "    input_size,\n",
        "    batch_size,\n",
        "    num_epochs,\n",
        "    lr\n",
        "):\n",
        "    device = torch.device('cuda' if torch.cuda.is_available() else 'cpu')\n",
        "    dataloaders = get_dataloaders(\n",
        "        trn_df,\n",
        "        val_df,\n",
        "        input_size,\n",
        "        batch_size\n",
        "    )\n",
        "\n",
        "    model = timm.create_model(\n",
        "        model_name,\n",
        "        pretrained=True,\n",
        "        num_classes=384\n",
        "    )\n",
        "    model.set_grad_checkpointing()\n",
        "    model.to(device)\n",
        "    \n",
        "    optimizer = torch.optim.AdamW(model.parameters(), lr=lr)\n",
        "\n",
        "    ttl_iters = num_epochs * len(dataloaders['train'])\n",
        "    scheduler = CosineAnnealingLR(optimizer, T_max=ttl_iters, eta_min=1e-6)\n",
        "    criterion = nn.CosineEmbeddingLoss()\n",
        "    \n",
        "    best_score = -1.0\n",
        "\n",
        "    for epoch in range(num_epochs):\n",
        "        train_meters = {\n",
        "            'loss': AverageMeter(),\n",
        "            'cos': AverageMeter(),\n",
        "        }\n",
        "        model.train()\n",
        "        for X, y in tqdm(dataloaders['train'], leave=False):\n",
        "            X, y = X.to(device), y.to(device)\n",
        "\n",
        "            optimizer.zero_grad()\n",
        "            X_out = model(X)\n",
        "            target = torch.ones(X.size(0)).to(device)\n",
        "            loss = criterion(X_out, y, target)\n",
        "            loss.backward()\n",
        "\n",
        "            optimizer.step()\n",
        "            scheduler.step()\n",
        "\n",
        "            trn_loss = loss.item()\n",
        "            trn_cos = cosine_similarity(\n",
        "                X_out.detach().cpu().numpy(), \n",
        "                y.detach().cpu().numpy()\n",
        "            )\n",
        "\n",
        "            train_meters['loss'].update(trn_loss, n=X.size(0))\n",
        "            train_meters['cos'].update(trn_cos, n=X.size(0))\n",
        "\n",
        "        print('Epoch {:d} / trn/loss={:.4f}, trn/cos={:.4f}'.format(\n",
        "            epoch + 1,\n",
        "            train_meters['loss'].avg,\n",
        "            train_meters['cos'].avg))\n",
        "\n",
        "        val_meters = {\n",
        "            'loss': AverageMeter(),\n",
        "            'cos': AverageMeter(),\n",
        "        }\n",
        "        model.eval()\n",
        "        for X, y in tqdm(dataloaders['val'], leave=False):\n",
        "            X, y = X.to(device), y.to(device)\n",
        "\n",
        "            with torch.no_grad():\n",
        "                X_out = model(X)\n",
        "                target = torch.ones(X.size(0)).to(device)\n",
        "                loss = criterion(X_out, y, target)\n",
        "\n",
        "                val_loss = loss.item()\n",
        "                val_cos = cosine_similarity(\n",
        "                    X_out.detach().cpu().numpy(), \n",
        "                    y.detach().cpu().numpy()\n",
        "                )\n",
        "\n",
        "            val_meters['loss'].update(val_loss, n=X.size(0))\n",
        "            val_meters['cos'].update(val_cos, n=X.size(0))\n",
        "\n",
        "        print('Epoch {:d} / val/loss={:.4f}, val/cos={:.4f}'.format(\n",
        "            epoch + 1,\n",
        "            val_meters['loss'].avg,\n",
        "            val_meters['cos'].avg))\n",
        "        \n",
        "        if val_meters['cos'].avg > best_score:\n",
        "            best_score = val_meters['cos'].avg\n",
        "            torch.save(model.state_dict(), f'{model_name}.pth')"
      ]
    },
    {
      "cell_type": "code",
      "execution_count": null,
      "id": "564e150a",
      "metadata": {
        "execution": {
          "iopub.execute_input": "2023-04-04T13:25:41.946598Z",
          "iopub.status.busy": "2023-04-04T13:25:41.946321Z",
          "iopub.status.idle": "2023-04-04T13:25:42.686537Z",
          "shell.execute_reply": "2023-04-04T13:25:42.685468Z"
        },
        "papermill": {
          "duration": 0.746927,
          "end_time": "2023-04-04T13:25:42.689227",
          "exception": false,
          "start_time": "2023-04-04T13:25:41.942300",
          "status": "completed"
        },
        "tags": [],
        "id": "564e150a"
      },
      "outputs": [],
      "source": [
        "df = pd.read_csv('/kaggle/input/diffusiondb-data-cleansing/diffusiondb.csv')\n",
        "trn_df, val_df = train_test_split(df, test_size=0.1, random_state=CFG.seed)"
      ]
    },
    {
      "cell_type": "code",
      "execution_count": null,
      "id": "37b51ad9",
      "metadata": {
        "execution": {
          "iopub.execute_input": "2023-04-04T13:25:42.697349Z",
          "iopub.status.busy": "2023-04-04T13:25:42.697030Z",
          "iopub.status.idle": "2023-04-04T13:25:42.701348Z",
          "shell.execute_reply": "2023-04-04T13:25:42.700231Z"
        },
        "papermill": {
          "duration": 0.011112,
          "end_time": "2023-04-04T13:25:42.703827",
          "exception": false,
          "start_time": "2023-04-04T13:25:42.692715",
          "status": "completed"
        },
        "tags": [],
        "id": "37b51ad9"
      },
      "outputs": [],
      "source": [
        "# trn_df = df[:2]\n",
        "# val_df = df[2:4]\n",
        "# val_df"
      ]
    },
    {
      "cell_type": "code",
      "execution_count": null,
      "id": "b6a1db70",
      "metadata": {
        "execution": {
          "iopub.execute_input": "2023-04-04T13:25:42.711307Z",
          "iopub.status.busy": "2023-04-04T13:25:42.711039Z",
          "iopub.status.idle": "2023-04-04T21:58:23.279728Z",
          "shell.execute_reply": "2023-04-04T21:58:23.278160Z"
        },
        "papermill": {
          "duration": 30760.575215,
          "end_time": "2023-04-04T21:58:23.282187",
          "exception": false,
          "start_time": "2023-04-04T13:25:42.706972",
          "status": "completed"
        },
        "tags": [],
        "id": "b6a1db70",
        "outputId": "e3f4cf86-9da2-4bf7-e2df-9090ec212b5c",
        "colab": {
          "referenced_widgets": [
            "c8cd292dde9f4ca8b50b398987356934",
            "19523762fb8b4a1aabc4d79c0ccdb56d",
            "5411135b1c2848a6a5162b528f3454d4",
            "0f7f040686e44b9f883eb02d9c85b20e",
            "45d257d145594e93b35331e0cd37b49e",
            "1981fd04415c40fd9417fc8f6b1048f6",
            "a620bc3f4e3f422d86c05b25204e0791",
            "9236c9cfc57a49b0b517c97f6d1fc151",
            "e8c105c842144442a49b879ee8b6de56",
            "bc848b162dd0438588941f4cdd11a6ad",
            "21fd3d3173ab4238937e4a991a7e2845",
            "cd4b5f842d7a48d5a5bfb9354239e33f"
          ]
        }
      },
      "outputs": [
        {
          "data": {
            "application/vnd.jupyter.widget-view+json": {
              "model_id": "c8cd292dde9f4ca8b50b398987356934",
              "version_major": 2,
              "version_minor": 0
            },
            "text/plain": [
              "  0%|          | 0/2170 [00:00<?, ?it/s]"
            ]
          },
          "metadata": {},
          "output_type": "display_data"
        },
        {
          "name": "stdout",
          "output_type": "stream",
          "text": [
            "Epoch 1 / trn/loss=0.5024, trn/cos=0.4976\n"
          ]
        },
        {
          "data": {
            "application/vnd.jupyter.widget-view+json": {
              "model_id": "19523762fb8b4a1aabc4d79c0ccdb56d",
              "version_major": 2,
              "version_minor": 0
            },
            "text/plain": [
              "  0%|          | 0/242 [00:00<?, ?it/s]"
            ]
          },
          "metadata": {},
          "output_type": "display_data"
        },
        {
          "name": "stdout",
          "output_type": "stream",
          "text": [
            "Epoch 1 / val/loss=0.4674, val/cos=0.5326\n"
          ]
        },
        {
          "data": {
            "application/vnd.jupyter.widget-view+json": {
              "model_id": "5411135b1c2848a6a5162b528f3454d4",
              "version_major": 2,
              "version_minor": 0
            },
            "text/plain": [
              "  0%|          | 0/2170 [00:00<?, ?it/s]"
            ]
          },
          "metadata": {},
          "output_type": "display_data"
        },
        {
          "name": "stdout",
          "output_type": "stream",
          "text": [
            "Epoch 2 / trn/loss=0.4364, trn/cos=0.5636\n"
          ]
        },
        {
          "data": {
            "application/vnd.jupyter.widget-view+json": {
              "model_id": "0f7f040686e44b9f883eb02d9c85b20e",
              "version_major": 2,
              "version_minor": 0
            },
            "text/plain": [
              "  0%|          | 0/242 [00:00<?, ?it/s]"
            ]
          },
          "metadata": {},
          "output_type": "display_data"
        },
        {
          "name": "stdout",
          "output_type": "stream",
          "text": [
            "Epoch 2 / val/loss=0.4468, val/cos=0.5532\n"
          ]
        },
        {
          "data": {
            "application/vnd.jupyter.widget-view+json": {
              "model_id": "45d257d145594e93b35331e0cd37b49e",
              "version_major": 2,
              "version_minor": 0
            },
            "text/plain": [
              "  0%|          | 0/2170 [00:00<?, ?it/s]"
            ]
          },
          "metadata": {},
          "output_type": "display_data"
        },
        {
          "name": "stdout",
          "output_type": "stream",
          "text": [
            "Epoch 3 / trn/loss=0.3949, trn/cos=0.6051\n"
          ]
        },
        {
          "data": {
            "application/vnd.jupyter.widget-view+json": {
              "model_id": "1981fd04415c40fd9417fc8f6b1048f6",
              "version_major": 2,
              "version_minor": 0
            },
            "text/plain": [
              "  0%|          | 0/242 [00:00<?, ?it/s]"
            ]
          },
          "metadata": {},
          "output_type": "display_data"
        },
        {
          "name": "stdout",
          "output_type": "stream",
          "text": [
            "Epoch 3 / val/loss=0.4381, val/cos=0.5619\n"
          ]
        },
        {
          "data": {
            "application/vnd.jupyter.widget-view+json": {
              "model_id": "a620bc3f4e3f422d86c05b25204e0791",
              "version_major": 2,
              "version_minor": 0
            },
            "text/plain": [
              "  0%|          | 0/2170 [00:00<?, ?it/s]"
            ]
          },
          "metadata": {},
          "output_type": "display_data"
        },
        {
          "name": "stdout",
          "output_type": "stream",
          "text": [
            "Epoch 4 / trn/loss=0.3519, trn/cos=0.6481\n"
          ]
        },
        {
          "data": {
            "application/vnd.jupyter.widget-view+json": {
              "model_id": "9236c9cfc57a49b0b517c97f6d1fc151",
              "version_major": 2,
              "version_minor": 0
            },
            "text/plain": [
              "  0%|          | 0/242 [00:00<?, ?it/s]"
            ]
          },
          "metadata": {},
          "output_type": "display_data"
        },
        {
          "name": "stdout",
          "output_type": "stream",
          "text": [
            "Epoch 4 / val/loss=0.4394, val/cos=0.5606\n"
          ]
        },
        {
          "data": {
            "application/vnd.jupyter.widget-view+json": {
              "model_id": "e8c105c842144442a49b879ee8b6de56",
              "version_major": 2,
              "version_minor": 0
            },
            "text/plain": [
              "  0%|          | 0/2170 [00:00<?, ?it/s]"
            ]
          },
          "metadata": {},
          "output_type": "display_data"
        },
        {
          "name": "stdout",
          "output_type": "stream",
          "text": [
            "Epoch 5 / trn/loss=0.3116, trn/cos=0.6884\n"
          ]
        },
        {
          "data": {
            "application/vnd.jupyter.widget-view+json": {
              "model_id": "bc848b162dd0438588941f4cdd11a6ad",
              "version_major": 2,
              "version_minor": 0
            },
            "text/plain": [
              "  0%|          | 0/242 [00:00<?, ?it/s]"
            ]
          },
          "metadata": {},
          "output_type": "display_data"
        },
        {
          "name": "stdout",
          "output_type": "stream",
          "text": [
            "Epoch 5 / val/loss=0.4456, val/cos=0.5544\n"
          ]
        },
        {
          "data": {
            "application/vnd.jupyter.widget-view+json": {
              "model_id": "21fd3d3173ab4238937e4a991a7e2845",
              "version_major": 2,
              "version_minor": 0
            },
            "text/plain": [
              "  0%|          | 0/2170 [00:00<?, ?it/s]"
            ]
          },
          "metadata": {},
          "output_type": "display_data"
        },
        {
          "name": "stdout",
          "output_type": "stream",
          "text": [
            "Epoch 6 / trn/loss=0.2856, trn/cos=0.7144\n"
          ]
        },
        {
          "data": {
            "application/vnd.jupyter.widget-view+json": {
              "model_id": "cd4b5f842d7a48d5a5bfb9354239e33f",
              "version_major": 2,
              "version_minor": 0
            },
            "text/plain": [
              "  0%|          | 0/242 [00:00<?, ?it/s]"
            ]
          },
          "metadata": {},
          "output_type": "display_data"
        },
        {
          "name": "stdout",
          "output_type": "stream",
          "text": [
            "Epoch 6 / val/loss=0.4529, val/cos=0.5471\n"
          ]
        }
      ],
      "source": [
        "train(trn_df, val_df, CFG.model_name, CFG.input_size, CFG.batch_size, CFG.num_epochs, CFG.lr)"
      ]
    },
    {
      "cell_type": "code",
      "execution_count": null,
      "id": "f74eabef",
      "metadata": {
        "execution": {
          "iopub.execute_input": "2023-04-04T21:58:23.294798Z",
          "iopub.status.busy": "2023-04-04T21:58:23.294472Z",
          "iopub.status.idle": "2023-04-04T21:58:23.299972Z",
          "shell.execute_reply": "2023-04-04T21:58:23.299047Z"
        },
        "papermill": {
          "duration": 0.014463,
          "end_time": "2023-04-04T21:58:23.302091",
          "exception": false,
          "start_time": "2023-04-04T21:58:23.287628",
          "status": "completed"
        },
        "tags": [],
        "id": "f74eabef"
      },
      "outputs": [],
      "source": [
        "# model = timm.create_model(\n",
        "#     CFG.model_name,\n",
        "#     pretrained=True,\n",
        "#     num_classes=384\n",
        "# )\n",
        "# model.load_state_dict(torch.load('{CFG.model_name}.pth'))\n",
        "\n",
        "# model.eval()\n",
        "# for X, y in tqdm(dataloaders['val'], leave=False):\n",
        "#     X, y = X.to(device), y.to(device)\n",
        "\n",
        "#     with torch.no_grad():\n",
        "#         X_out = model(X)\n",
        "#         target = torch.ones(X.size(0)).to(device)\n",
        "#         loss = criterion(X_out, y, target)\n"
      ]
    }
  ],
  "metadata": {
    "kernelspec": {
      "display_name": "Python 3",
      "language": "python",
      "name": "python3"
    },
    "language_info": {
      "codemirror_mode": {
        "name": "ipython",
        "version": 3
      },
      "file_extension": ".py",
      "mimetype": "text/x-python",
      "name": "python",
      "nbconvert_exporter": "python",
      "pygments_lexer": "ipython3",
      "version": "3.7.12"
    },
    "papermill": {
      "default_parameters": {},
      "duration": 30786.129377,
      "end_time": "2023-04-04T21:58:26.542178",
      "environment_variables": {},
      "exception": null,
      "input_path": "__notebook__.ipynb",
      "output_path": "__notebook__.ipynb",
      "parameters": {},
      "start_time": "2023-04-04T13:25:20.412801",
      "version": "2.4.0"
    },
    "widgets": {
      "application/vnd.jupyter.widget-state+json": {}
    },
    "colab": {
      "provenance": []
    }
  },
  "nbformat": 4,
  "nbformat_minor": 5
}